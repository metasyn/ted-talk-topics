{
 "metadata": {
  "name": "",
  "signature": "sha256:b632edf1de10a1f18cfe3053866b9c69c20a97c925805d676cbfb3c99b91eb99"
 },
 "nbformat": 3,
 "nbformat_minor": 0,
 "worksheets": [
  {
   "cells": [
    {
     "cell_type": "markdown",
     "metadata": {},
     "source": [
      "# The Topics of TED 2013"
     ]
    },
    {
     "cell_type": "code",
     "collapsed": false,
     "input": [
      "import numpy as np\n",
      "import pandas as pd\n",
      "import seaborn as sns\n",
      "import nltk\n",
      "import matplotlib.pyplot as plt\n",
      "import re\n",
      "\n",
      "%matplotlib inline"
     ],
     "language": "python",
     "metadata": {},
     "outputs": [],
     "prompt_number": 1
    },
    {
     "cell_type": "code",
     "collapsed": false,
     "input": [
      "# From OPUS: http://opus.lingfil.uu.se/TED2013.php\n",
      "\n",
      "infile=open('./ted.xml', 'r')\n",
      "raw=infile.read()\n",
      "infile.close()"
     ],
     "language": "python",
     "metadata": {},
     "outputs": [],
     "prompt_number": 2
    },
    {
     "cell_type": "code",
     "collapsed": false,
     "input": [
      "# I can see my inpsecting the data that each talk starts with a an empty line <s id....></s>, except the first\n",
      "# Secondly, there is another empty line before the talk begins, after a short intro & title\n",
      "\n",
      "print raw[:1000]"
     ],
     "language": "python",
     "metadata": {},
     "outputs": [
      {
       "output_type": "stream",
       "stream": "stdout",
       "text": [
        "<?xml version=\"1.0\" encoding=\"utf-8\"?>\n",
        "<letsmt version=\"1.0\">\n",
        "<head></head>\n",
        "<body>\n",
        "<s id=\"1\">http://www.ted.com/talks/stephen_palumbi_following_the_mercury_trail.html</s>\n",
        "<s id=\"2\">There's a tight and surprising link between the ocean'shealth and ours, says marine biologist Stephen Palumbi. He showshow toxins at the bottom of the ocean food chain find their wayinto our bodies, with a shocking story of toxic contamination froma Japanese fish market. His work points a way forward for savingthe oceans' health -- and humanity's.</s>\n",
        "<s id=\"3\">fish,health,mission blue,oceans,science</s>\n",
        "<s id=\"4\">899</s>\n",
        "<s id=\"5\">Stephen Palumbi: Following the mercury trail</s>\n",
        "<s id=\"6\"></s>\n",
        "<s id=\"7\">It can be a very complicated thing, the ocean.</s>\n",
        "<s id=\"8\">And it can be a very complicated thing, what human healthis.</s>\n",
        "<s id=\"9\">And bringing those two together might seem a very dauntingtask,</s>\n",
        "<s id=\"10\">but what I'm going to try to say is that even in thatcomplexity, there's some simple themes th\n"
       ]
      }
     ],
     "prompt_number": 3
    },
    {
     "cell_type": "code",
     "collapsed": false,
     "input": [
      "chunks=re.split(r'http://www.ted.com/talks/', raw) "
     ],
     "language": "python",
     "metadata": {},
     "outputs": [],
     "prompt_number": 4
    },
    {
     "cell_type": "code",
     "collapsed": false,
     "input": [
      "chunks[1][:100]"
     ],
     "language": "python",
     "metadata": {},
     "outputs": [
      {
       "metadata": {},
       "output_type": "pyout",
       "prompt_number": 5,
       "text": [
        "'stephen_palumbi_following_the_mercury_trail.html</s>\\n<s id=\"2\">There\\'s a tight and surprising link b'"
       ]
      }
     ],
     "prompt_number": 5
    },
    {
     "cell_type": "code",
     "collapsed": false,
     "input": [
      "chunks[-1][-100:]"
     ],
     "language": "python",
     "metadata": {},
     "outputs": [
      {
       "metadata": {},
       "output_type": "pyout",
       "prompt_number": 6,
       "text": [
        "'<s id=\"162680\">Thank you very much. Thank you. Thank you.</s>\\n<s id=\"162681\"></s>\\n</body>\\n</letsmt>\\n'"
       ]
      }
     ],
     "prompt_number": 6
    },
    {
     "cell_type": "code",
     "collapsed": false,
     "input": [
      "chunks[0]"
     ],
     "language": "python",
     "metadata": {},
     "outputs": [
      {
       "metadata": {},
       "output_type": "pyout",
       "prompt_number": 7,
       "text": [
        "'<?xml version=\"1.0\" encoding=\"utf-8\"?>\\n<letsmt version=\"1.0\">\\n<head></head>\\n<body>\\n<s id=\"1\">'"
       ]
      }
     ],
     "prompt_number": 7
    },
    {
     "cell_type": "code",
     "collapsed": false,
     "input": [
      "chunks.pop(0)"
     ],
     "language": "python",
     "metadata": {},
     "outputs": [
      {
       "metadata": {},
       "output_type": "pyout",
       "prompt_number": 8,
       "text": [
        "'<?xml version=\"1.0\" encoding=\"utf-8\"?>\\n<letsmt version=\"1.0\">\\n<head></head>\\n<body>\\n<s id=\"1\">'"
       ]
      }
     ],
     "prompt_number": 8
    },
    {
     "cell_type": "code",
     "collapsed": false,
     "input": [
      "# We should get rid of that URL first"
     ],
     "language": "python",
     "metadata": {},
     "outputs": [],
     "prompt_number": 9
    },
    {
     "cell_type": "code",
     "collapsed": false,
     "input": [
      "chunks[6].splitlines()[:5]"
     ],
     "language": "python",
     "metadata": {},
     "outputs": [
      {
       "metadata": {},
       "output_type": "pyout",
       "prompt_number": 10,
       "text": [
        "['majora_carter_3_stories_of_local_ecoactivism.html</s>',\n",
        " '<s id=\"684\">The future of green is local -- and entrepreneurial. AtTEDxMidwest, Majora Carter brings us the stories of three peoplewho are saving their own communities while saving the planet. Callit \"hometown security.\"</s>',\n",
        " '<s id=\"685\">business,community,economics,green</s>',\n",
        " '<s id=\"686\">1041</s>',\n",
        " '<s id=\"687\">Majora Carter: 3 stories of localeco-entrepreneurship</s>']"
       ]
      }
     ],
     "prompt_number": 10
    },
    {
     "cell_type": "code",
     "collapsed": false,
     "input": [
      "# So for each except for the first, which I'll edit manually, the URL is the second line, the author is the last."
     ],
     "language": "python",
     "metadata": {},
     "outputs": [],
     "prompt_number": 11
    },
    {
     "cell_type": "code",
     "collapsed": false,
     "input": [
      "def scrub(text):\n",
      "    lines = text.splitlines()\n",
      "    url = lines[0]\n",
      "    topics = lines[2]\n",
      "    author = lines[4]\n",
      "    text = ' '.join(lines[5:])\n",
      "    text = re.sub('<.+?>|[\\?\\!\\.\\,\\']', ' ', text)\n",
      "    url = re.sub('<.+?>', ' ', url)\n",
      "    author = re.sub('<.+?>', ' ', author)\n",
      "    topics = re.sub('<.+?>|[\\?\\!\\.\\,\\']', ' ', topics)\n",
      "    return url.strip(), topics.strip().split(' '), author.strip(), [i.lower().strip() for i in text.split() if re.match(r'[A-Za-z]', i)]"
     ],
     "language": "python",
     "metadata": {},
     "outputs": [],
     "prompt_number": 61
    },
    {
     "cell_type": "code",
     "collapsed": false,
     "input": [
      "test_url, test_topics, test_author, test_scrub = scrub(chunks[2])"
     ],
     "language": "python",
     "metadata": {},
     "outputs": [],
     "prompt_number": 62
    },
    {
     "cell_type": "code",
     "collapsed": false,
     "input": [
      "test_url, test_topics, test_author"
     ],
     "language": "python",
     "metadata": {},
     "outputs": [
      {
       "metadata": {},
       "output_type": "pyout",
       "prompt_number": 63,
       "text": [
        "('handpring_puppet_co_the_genius_puppetry_behind_war_horse.html',\n",
        " ['animals', 'arts', 'design', 'entertainment', 'theater'],\n",
        " 'Handspring Puppet Co.: The genius puppetry behind WarHorse')"
       ]
      }
     ],
     "prompt_number": 63
    },
    {
     "cell_type": "code",
     "collapsed": false,
     "input": [
      "test_scrub[:10]"
     ],
     "language": "python",
     "metadata": {},
     "outputs": [
      {
       "metadata": {},
       "output_type": "pyout",
       "prompt_number": 64,
       "text": [
        "['adrian',\n",
        " 'kohler:',\n",
        " 'well',\n",
        " 'we',\n",
        " 're',\n",
        " 'here',\n",
        " 'today',\n",
        " 'to',\n",
        " 'talk',\n",
        " 'about']"
       ]
      }
     ],
     "prompt_number": 64
    },
    {
     "cell_type": "code",
     "collapsed": false,
     "input": [
      "test_scrub[-10:]"
     ],
     "language": "python",
     "metadata": {},
     "outputs": [
      {
       "metadata": {},
       "output_type": "pyout",
       "prompt_number": 65,
       "text": [
        "['leo',\n",
        " 'zem',\n",
        " 'joaquin',\n",
        " 'and',\n",
        " 'basil',\n",
        " 'andme',\n",
        " 'thank',\n",
        " 'you',\n",
        " 'thank',\n",
        " 'you']"
       ]
      }
     ],
     "prompt_number": 65
    },
    {
     "cell_type": "code",
     "collapsed": false,
     "input": [
      "# Slookin good.\n",
      "# More testing\n",
      "\n",
      "u,to,a, t = scrub(chunks[-1]); u, a"
     ],
     "language": "python",
     "metadata": {},
     "outputs": [
      {
       "metadata": {},
       "output_type": "pyout",
       "prompt_number": 66,
       "text": [
        "('james_stavridis_how_nato_s_supreme_commander_thinks_about_global_security.html',\n",
        " \"James Stavridis: How NATO's Supreme Commander thinks aboutglobal security\")"
       ]
      }
     ],
     "prompt_number": 66
    },
    {
     "cell_type": "code",
     "collapsed": false,
     "input": [
      "scrubbed = []\n",
      "for chunk in chunks:\n",
      "    u,to,a,t = scrub(chunk)\n",
      "    scrubbed.append((u,to,a,t))"
     ],
     "language": "python",
     "metadata": {},
     "outputs": [],
     "prompt_number": 67
    },
    {
     "cell_type": "code",
     "collapsed": false,
     "input": [
      "df = pd.DataFrame(scrubbed)"
     ],
     "language": "python",
     "metadata": {},
     "outputs": [],
     "prompt_number": 68
    },
    {
     "cell_type": "code",
     "collapsed": false,
     "input": [
      "df.columns=['url', 'topics', 'author', 'text']"
     ],
     "language": "python",
     "metadata": {},
     "outputs": [],
     "prompt_number": 69
    },
    {
     "cell_type": "code",
     "collapsed": false,
     "input": [
      "df.head()"
     ],
     "language": "python",
     "metadata": {},
     "outputs": [
      {
       "html": [
        "<div style=\"max-height:1000px;max-width:1500px;overflow:auto;\">\n",
        "<table border=\"1\" class=\"dataframe\">\n",
        "  <thead>\n",
        "    <tr style=\"text-align: right;\">\n",
        "      <th></th>\n",
        "      <th>url</th>\n",
        "      <th>topics</th>\n",
        "      <th>author</th>\n",
        "      <th>text</th>\n",
        "    </tr>\n",
        "  </thead>\n",
        "  <tbody>\n",
        "    <tr>\n",
        "      <th>0</th>\n",
        "      <td>  stephen_palumbi_following_the_mercury_trail.html</td>\n",
        "      <td>    [fish, health, mission, blue, oceans, science]</td>\n",
        "      <td>      Stephen Palumbi: Following the mercury trail</td>\n",
        "      <td> [it, can, be, a, very, complicated, thing, the...</td>\n",
        "    </tr>\n",
        "    <tr>\n",
        "      <th>1</th>\n",
        "      <td>                    jessa_gamble_how_to_sleep.html</td>\n",
        "      <td> [evolution, humanity, personal, growth, scienc...</td>\n",
        "      <td>             Jessa Gamble: Our natural sleep cycle</td>\n",
        "      <td> [let, s, start, with, day, and, night, life, e...</td>\n",
        "    </tr>\n",
        "    <tr>\n",
        "      <th>2</th>\n",
        "      <td> handpring_puppet_co_the_genius_puppetry_behind...</td>\n",
        "      <td>   [animals, arts, design, entertainment, theater]</td>\n",
        "      <td> Handspring Puppet Co.: The genius puppetry beh...</td>\n",
        "      <td> [adrian, kohler:, well, we, re, here, today, t...</td>\n",
        "    </tr>\n",
        "    <tr>\n",
        "      <th>3</th>\n",
        "      <td> katherine_fulton_you_are_the_future_of_philant...</td>\n",
        "      <td> [activism, bottom-up, community, globalissues,...</td>\n",
        "      <td> Katherine Fulton: You are the future ofphilant...</td>\n",
        "      <td> [i, want, to, help, you, re-perceive, what, ph...</td>\n",
        "    </tr>\n",
        "    <tr>\n",
        "      <th>4</th>\n",
        "      <td> chris_gerdes_the_future_race_car_150mph_and_no...</td>\n",
        "      <td>                        [cars, future, technology]</td>\n",
        "      <td> Chris Gerdes: The future race car -- 150mph, a...</td>\n",
        "      <td> [so, how, many, of, you, have, ever, gotten, b...</td>\n",
        "    </tr>\n",
        "  </tbody>\n",
        "</table>\n",
        "</div>"
       ],
       "metadata": {},
       "output_type": "pyout",
       "prompt_number": 70,
       "text": [
        "                                                 url  \\\n",
        "0   stephen_palumbi_following_the_mercury_trail.html   \n",
        "1                     jessa_gamble_how_to_sleep.html   \n",
        "2  handpring_puppet_co_the_genius_puppetry_behind...   \n",
        "3  katherine_fulton_you_are_the_future_of_philant...   \n",
        "4  chris_gerdes_the_future_race_car_150mph_and_no...   \n",
        "\n",
        "                                              topics  \\\n",
        "0     [fish, health, mission, blue, oceans, science]   \n",
        "1  [evolution, humanity, personal, growth, scienc...   \n",
        "2    [animals, arts, design, entertainment, theater]   \n",
        "3  [activism, bottom-up, community, globalissues,...   \n",
        "4                         [cars, future, technology]   \n",
        "\n",
        "                                              author  \\\n",
        "0       Stephen Palumbi: Following the mercury trail   \n",
        "1              Jessa Gamble: Our natural sleep cycle   \n",
        "2  Handspring Puppet Co.: The genius puppetry beh...   \n",
        "3  Katherine Fulton: You are the future ofphilant...   \n",
        "4  Chris Gerdes: The future race car -- 150mph, a...   \n",
        "\n",
        "                                                text  \n",
        "0  [it, can, be, a, very, complicated, thing, the...  \n",
        "1  [let, s, start, with, day, and, night, life, e...  \n",
        "2  [adrian, kohler:, well, we, re, here, today, t...  \n",
        "3  [i, want, to, help, you, re-perceive, what, ph...  \n",
        "4  [so, how, many, of, you, have, ever, gotten, b...  "
       ]
      }
     ],
     "prompt_number": 70
    },
    {
     "cell_type": "code",
     "collapsed": false,
     "input": [
      "# Yay ! It's all aligned"
     ],
     "language": "python",
     "metadata": {},
     "outputs": [],
     "prompt_number": 71
    },
    {
     "cell_type": "code",
     "collapsed": false,
     "input": [
      "df.tail()"
     ],
     "language": "python",
     "metadata": {},
     "outputs": [
      {
       "html": [
        "<div style=\"max-height:1000px;max-width:1500px;overflow:auto;\">\n",
        "<table border=\"1\" class=\"dataframe\">\n",
        "  <thead>\n",
        "    <tr style=\"text-align: right;\">\n",
        "      <th></th>\n",
        "      <th>url</th>\n",
        "      <th>topics</th>\n",
        "      <th>author</th>\n",
        "      <th>text</th>\n",
        "    </tr>\n",
        "  </thead>\n",
        "  <tbody>\n",
        "    <tr>\n",
        "      <th>1164</th>\n",
        "      <td> lalitesh_katragadda_making_maps_to_fight_disas...</td>\n",
        "      <td>          [collaboration, design, map, technology]</td>\n",
        "      <td> Lalitesh Katragadda: Making maps to fight disa...</td>\n",
        "      <td> [in, cyclone, nargis, devastated, myanmar, mil...</td>\n",
        "    </tr>\n",
        "    <tr>\n",
        "      <th>1165</th>\n",
        "      <td>                                  julia_bacha.html</td>\n",
        "      <td> [arts, communication, compassion, entertainmen...</td>\n",
        "      <td>         Julia Bacha: Pay attention to nonviolence</td>\n",
        "      <td> [i, m, a, filmmaker, for, the, last, years, i,...</td>\n",
        "    </tr>\n",
        "    <tr>\n",
        "      <th>1166</th>\n",
        "      <td> simon_sinek_how_great_leaders_inspire_action.html</td>\n",
        "      <td> [bullseye, business, entrepreneur, leadership,...</td>\n",
        "      <td>     Simon Sinek: How great leaders inspire action</td>\n",
        "      <td> [how, do, you, explain, when, things, don, t, ...</td>\n",
        "    </tr>\n",
        "    <tr>\n",
        "      <th>1167</th>\n",
        "      <td> neil_burgess_how_your_brain_tells_you_where_yo...</td>\n",
        "      <td> [brain, cognitivescience, exploration, neurosc...</td>\n",
        "      <td> Neil Burgess: How your brain tells you where y...</td>\n",
        "      <td> [when, we, park, in, a, big, parking, lot, how...</td>\n",
        "    </tr>\n",
        "    <tr>\n",
        "      <th>1168</th>\n",
        "      <td> james_stavridis_how_nato_s_supreme_commander_t...</td>\n",
        "      <td> [collaboration, globalissues, open-source, pea...</td>\n",
        "      <td> James Stavridis: How NATO's Supreme Commander ...</td>\n",
        "      <td> [i, m, gonna, talk, a, little, bit, about, ope...</td>\n",
        "    </tr>\n",
        "  </tbody>\n",
        "</table>\n",
        "</div>"
       ],
       "metadata": {},
       "output_type": "pyout",
       "prompt_number": 72,
       "text": [
        "                                                    url  \\\n",
        "1164  lalitesh_katragadda_making_maps_to_fight_disas...   \n",
        "1165                                   julia_bacha.html   \n",
        "1166  simon_sinek_how_great_leaders_inspire_action.html   \n",
        "1167  neil_burgess_how_your_brain_tells_you_where_yo...   \n",
        "1168  james_stavridis_how_nato_s_supreme_commander_t...   \n",
        "\n",
        "                                                 topics  \\\n",
        "1164           [collaboration, design, map, technology]   \n",
        "1165  [arts, communication, compassion, entertainmen...   \n",
        "1166  [bullseye, business, entrepreneur, leadership,...   \n",
        "1167  [brain, cognitivescience, exploration, neurosc...   \n",
        "1168  [collaboration, globalissues, open-source, pea...   \n",
        "\n",
        "                                                 author  \\\n",
        "1164  Lalitesh Katragadda: Making maps to fight disa...   \n",
        "1165          Julia Bacha: Pay attention to nonviolence   \n",
        "1166      Simon Sinek: How great leaders inspire action   \n",
        "1167  Neil Burgess: How your brain tells you where y...   \n",
        "1168  James Stavridis: How NATO's Supreme Commander ...   \n",
        "\n",
        "                                                   text  \n",
        "1164  [in, cyclone, nargis, devastated, myanmar, mil...  \n",
        "1165  [i, m, a, filmmaker, for, the, last, years, i,...  \n",
        "1166  [how, do, you, explain, when, things, don, t, ...  \n",
        "1167  [when, we, park, in, a, big, parking, lot, how...  \n",
        "1168  [i, m, gonna, talk, a, little, bit, about, ope...  "
       ]
      }
     ],
     "prompt_number": 72
    },
    {
     "cell_type": "code",
     "collapsed": false,
     "input": [
      "df.info()"
     ],
     "language": "python",
     "metadata": {},
     "outputs": [
      {
       "output_type": "stream",
       "stream": "stdout",
       "text": [
        "<class 'pandas.core.frame.DataFrame'>\n",
        "Int64Index: 1169 entries, 0 to 1168\n",
        "Data columns (total 4 columns):\n",
        "url       1169 non-null object\n",
        "topics    1169 non-null object\n",
        "author    1169 non-null object\n",
        "text      1169 non-null object\n",
        "dtypes: object(4)\n",
        "memory usage: 45.7+ KB\n"
       ]
      }
     ],
     "prompt_number": 73
    },
    {
     "cell_type": "code",
     "collapsed": false,
     "input": [
      "# Whats the text actually look like now?"
     ],
     "language": "python",
     "metadata": {},
     "outputs": [],
     "prompt_number": 74
    },
    {
     "cell_type": "code",
     "collapsed": false,
     "input": [
      "df.text"
     ],
     "language": "python",
     "metadata": {},
     "outputs": [
      {
       "metadata": {},
       "output_type": "pyout",
       "prompt_number": 75,
       "text": [
        "0     [it, can, be, a, very, complicated, thing, the...\n",
        "1     [let, s, start, with, day, and, night, life, e...\n",
        "2     [adrian, kohler:, well, we, re, here, today, t...\n",
        "3     [i, want, to, help, you, re-perceive, what, ph...\n",
        "4     [so, how, many, of, you, have, ever, gotten, b...\n",
        "5     [i, believe, that, there, are, new, hidden, te...\n",
        "6     [so, today, i, m, going, to, tell, you, about,...\n",
        "7     [i, like, many, of, you, am, one, of, the, two...\n",
        "8     [most, people, don, t, know, that, when, i, we...\n",
        "9     [what, i, want, to, tell, you, about, today, i...\n",
        "10    [when, i, was, little, and, by, the, way, i, w...\n",
        "11    [one, of, the, most, common, ways, of, dividin...\n",
        "12    [i, would, like, to, talk, today, about, what,...\n",
        "13    [we, really, need, to, put, the, best, we, hav...\n",
        "14    [imagine, if, you, will, a, gift, i, d, like, ...\n",
        "...\n",
        "1154    [for, years, i, ve, been, feeling, frustrated,...\n",
        "1155    [i, draw, to, better, understand, things, some...\n",
        "1156    [today, i, d, like, to, show, you, the, future...\n",
        "1157    [recently, i, visited, beloit, wisconsin, and,...\n",
        "1158    [we, ve, been, told, to, go, out, on, a, limb,...\n",
        "1159    [at, the, break, i, was, asked, by, several, p...\n",
        "1160    [take, a, look, at, this, picture, it, poses, ...\n",
        "1161    [i, want, to, share, with, you, some, ideas, a...\n",
        "1162    [in, the, next, minutes, i, m, going, to, take...\n",
        "1163    [we, are, drowning, in, news, reuters, alone, ...\n",
        "1164    [in, cyclone, nargis, devastated, myanmar, mil...\n",
        "1165    [i, m, a, filmmaker, for, the, last, years, i,...\n",
        "1166    [how, do, you, explain, when, things, don, t, ...\n",
        "1167    [when, we, park, in, a, big, parking, lot, how...\n",
        "1168    [i, m, gonna, talk, a, little, bit, about, ope...\n",
        "Name: text, Length: 1169, dtype: object"
       ]
      }
     ],
     "prompt_number": 75
    },
    {
     "cell_type": "code",
     "collapsed": false,
     "input": [
      "# I can see some words got grouped, e.g. 'global issues', \n",
      "# but I'll ignore that for now. Most look like they got seperated correctly"
     ],
     "language": "python",
     "metadata": {},
     "outputs": [],
     "prompt_number": 76
    },
    {
     "cell_type": "markdown",
     "metadata": {},
     "source": [
      "# Document Clustering\n",
      "\n",
      "How are we going to represent the words, numerically, so that we can cluster them?\n",
      "\n",
      "## TF-IDF: Term Frequency, Inverse Document Frequency\n",
      "\n",
      "It's one way to do it !\n",
      "\n",
      "http://en.wikipedia.org/wiki/Tf%E2%80%93idf\n",
      "\n",
      "> tf\u2013idf, short for term frequency\u2013inverse document frequency, is a numerical statistic that is intended to reflect how important a word is to a document in a collection or corpus. It is often used as a weighting factor in information retrieval and text mining. The tf-idf value increases proportionally to the number of times a word appears in the document, but is offset by the frequency of the word in the corpus, which helps to adjust for the fact that some words appear more frequently in general. Variations of the tf\u2013idf weighting scheme are often used by search engines as a central tool in scoring and ranking a document's relevance given a user query. tf\u2013idf can be successfully used for stop-words filtering in various subject fields including text summarization and classification."
     ]
    },
    {
     "cell_type": "code",
     "collapsed": false,
     "input": [
      "from sklearn.feature_extraction.text import TfidfTransformer, TfidfVectorizer"
     ],
     "language": "python",
     "metadata": {},
     "outputs": [],
     "prompt_number": 77
    },
    {
     "cell_type": "code",
     "collapsed": false,
     "input": [
      "tfidfer = TfidfVectorizer(smooth_idf=True) # Smooth here adds one (to avoid zero division later)"
     ],
     "language": "python",
     "metadata": {},
     "outputs": [],
     "prompt_number": 78
    },
    {
     "cell_type": "code",
     "collapsed": false,
     "input": [
      "# Need to have words as words, not lists though\n",
      "df['text'] = df['text'].map(\n",
      "    lambda x: ' '.join(x))"
     ],
     "language": "python",
     "metadata": {},
     "outputs": [],
     "prompt_number": 79
    },
    {
     "cell_type": "code",
     "collapsed": false,
     "input": [
      "tfidf_matrix = tfidfer.fit_transform(df.text)"
     ],
     "language": "python",
     "metadata": {},
     "outputs": [
      {
       "output_type": "stream",
       "stream": "stderr",
       "text": [
        "/Library/Python/2.7/site-packages/numpy-1.9.1-py2.7-macosx-10.9-intel.egg/numpy/core/fromnumeric.py:2499: VisibleDeprecationWarning: `rank` is deprecated; use the `ndim` attribute or function instead. To find the rank of a matrix see `numpy.linalg.matrix_rank`.\n",
        "  VisibleDeprecationWarning)\n"
       ]
      }
     ],
     "prompt_number": 80
    },
    {
     "cell_type": "code",
     "collapsed": false,
     "input": [
      "tfidf_matrix[:10]"
     ],
     "language": "python",
     "metadata": {},
     "outputs": [
      {
       "metadata": {},
       "output_type": "pyout",
       "prompt_number": 81,
       "text": [
        "<10x126339 sparse matrix of type '<type 'numpy.float64'>'\n",
        "\twith 6773 stored elements in Compressed Sparse Row format>"
       ]
      }
     ],
     "prompt_number": 81
    },
    {
     "cell_type": "code",
     "collapsed": false,
     "input": [
      "# What is CSR ? http://en.wikipedia.org/wiki/Sparse_matrix#Compressed_row_Storage_.28CRS_or_CSR.29"
     ],
     "language": "python",
     "metadata": {},
     "outputs": [],
     "prompt_number": 82
    },
    {
     "cell_type": "code",
     "collapsed": false,
     "input": [
      "from sklearn.cluster import KMeans\n",
      "from sklearn.manifold import TSNE\n",
      "from sklearn.decomposition import TruncatedSVD"
     ],
     "language": "python",
     "metadata": {},
     "outputs": [],
     "prompt_number": 84
    },
    {
     "cell_type": "code",
     "collapsed": false,
     "input": [
      "svd = TruncatedSVD(n_components=1000) # Reduction #1 : 10x126339  dimensions -> 1000 dimensions\n",
      "svd_matrix = svd.fit_transform(tfidf_matrix)"
     ],
     "language": "python",
     "metadata": {},
     "outputs": [],
     "prompt_number": 85
    },
    {
     "cell_type": "code",
     "collapsed": false,
     "input": [
      "tsne = TSNE(n_components=3) # Reduction #2 1000 dimensions ->3 dimensions\n",
      "tsne_matrix = tsne.fit_transform(svd_matrix)"
     ],
     "language": "python",
     "metadata": {},
     "outputs": [],
     "prompt_number": 86
    },
    {
     "cell_type": "code",
     "collapsed": false,
     "input": [
      "tsne_matrix # these are our x, y, and z coordinates"
     ],
     "language": "python",
     "metadata": {},
     "outputs": [
      {
       "metadata": {},
       "output_type": "pyout",
       "prompt_number": 87,
       "text": [
        "array([[ 11.65254246,   1.69531949,  -0.07780184],\n",
        "       [ -3.96589001,   0.96286598,  -1.83395583],\n",
        "       [  1.94652518,   4.0644314 ,   2.63341787],\n",
        "       ..., \n",
        "       [ -5.50402382,  -0.70785094, -13.71100751],\n",
        "       [ 10.99236356,   8.81003834,  11.52987237],\n",
        "       [  2.58874505,  -7.68543102,   2.9374255 ]])"
       ]
      }
     ],
     "prompt_number": 87
    },
    {
     "cell_type": "code",
     "collapsed": false,
     "input": [
      "from mpl_toolkits.mplot3d import Axes3D\n",
      "\n",
      "fig = plt.figure()\n",
      "ax = fig.add_subplot(111, projection='3d')\n",
      "ax.scatter(tsne_matrix[:,0],tsne_matrix[:,1],tsne_matrix[:,2])"
     ],
     "language": "python",
     "metadata": {},
     "outputs": [
      {
       "metadata": {},
       "output_type": "pyout",
       "prompt_number": 88,
       "text": [
        "<mpl_toolkits.mplot3d.art3d.Patch3DCollection at 0x125bb8450>"
       ]
      },
      {
       "metadata": {},
       "output_type": "display_data",
       "png": "[encoded data removed]",
       "text": [
        "<matplotlib.figure.Figure at 0x125dcdb90>"
       ]
      }
     ],
     "prompt_number": 88
    },
    {
     "cell_type": "code",
     "collapsed": false,
     "input": [
      "# Huh. Super duper clustered, seemingly."
     ],
     "language": "python",
     "metadata": {},
     "outputs": [],
     "prompt_number": 89
    },
    {
     "cell_type": "code",
     "collapsed": false,
     "input": [
      "kmeans = KMeans(init='k-means++', n_clusters=5, n_init=100)\n",
      "kmeans.fit(tsne_matrix)\n",
      "d = {0:'g',1:'r', 2:'y', 3:'b', 4:'w'}\n",
      "kcolors = [d[i] for i in kmeans.labels_]"
     ],
     "language": "python",
     "metadata": {},
     "outputs": [],
     "prompt_number": 90
    },
    {
     "cell_type": "code",
     "collapsed": false,
     "input": [
      "fig = plt.figure()\n",
      "ax = fig.add_subplot(111, projection='3d')\n",
      "ax.scatter(tsne_matrix[:,0],tsne_matrix[:,1],tsne_matrix[:,2], c=kcolors, alpha=.6)\n",
      "\n",
      "# This is with 5 clusters"
     ],
     "language": "python",
     "metadata": {},
     "outputs": [
      {
       "metadata": {},
       "output_type": "pyout",
       "prompt_number": 91,
       "text": [
        "<mpl_toolkits.mplot3d.art3d.Patch3DCollection at 0x1267ecfd0>"
       ]
      },
      {
       "metadata": {},
       "output_type": "display_data",
       "png": "[encoded data removed]",
       "text": [
        "<matplotlib.figure.Figure at 0x1268a3990>"
       ]
      }
     ],
     "prompt_number": 91
    },
    {
     "cell_type": "code",
     "collapsed": false,
     "input": [
      "kmeans = KMeans(init='k-means++', n_clusters=3, n_init=100)\n",
      "kmeans.fit(tsne_matrix)\n",
      "d = {0:'g',1:'r', 2:'y', 3:'b', 4:'w'}\n",
      "kcolors = [d[i] for i in kmeans.labels_]\n",
      "fig = plt.figure()\n",
      "ax = fig.add_subplot(111, projection='3d')\n",
      "ax.scatter(tsne_matrix[:,0],tsne_matrix[:,1],tsne_matrix[:,2], c=kcolors, alpha=.6)\n",
      "\n",
      "# This is with two clusters"
     ],
     "language": "python",
     "metadata": {},
     "outputs": [
      {
       "metadata": {},
       "output_type": "pyout",
       "prompt_number": 93,
       "text": [
        "<mpl_toolkits.mplot3d.art3d.Patch3DCollection at 0x12742b850>"
       ]
      },
      {
       "metadata": {},
       "output_type": "display_data",
       "png": "[encoded data removed]",
       "text": [
        "<matplotlib.figure.Figure at 0x127449490>"
       ]
      }
     ],
     "prompt_number": 93
    },
    {
     "cell_type": "markdown",
     "metadata": {},
     "source": [
      "## So... What ?\n",
      "\n",
      "What does this tell us?\n",
      "\n",
      "If we can see very visible clusters after HUGE dimensionality reduction, clusters do exist in the higher dimensional data (all features, 12000+). If we can get obvious clusters with these approximations, topic modeling should hopefully give us some useful extractions as well.\n",
      "\n",
      "It's important to visualize our data - and for something like this, we need to reduce it (as we did above) in order visualize anything."
     ]
    },
    {
     "cell_type": "code",
     "collapsed": false,
     "input": [
      "df.head()"
     ],
     "language": "python",
     "metadata": {},
     "outputs": [
      {
       "html": [
        "<div style=\"max-height:1000px;max-width:1500px;overflow:auto;\">\n",
        "<table border=\"1\" class=\"dataframe\">\n",
        "  <thead>\n",
        "    <tr style=\"text-align: right;\">\n",
        "      <th></th>\n",
        "      <th>url</th>\n",
        "      <th>topics</th>\n",
        "      <th>author</th>\n",
        "      <th>text</th>\n",
        "    </tr>\n",
        "  </thead>\n",
        "  <tbody>\n",
        "    <tr>\n",
        "      <th>0</th>\n",
        "      <td>  stephen_palumbi_following_the_mercury_trail.html</td>\n",
        "      <td>    [fish, health, mission, blue, oceans, science]</td>\n",
        "      <td>      Stephen Palumbi: Following the mercury trail</td>\n",
        "      <td> it can be a very complicated thing the ocean a...</td>\n",
        "    </tr>\n",
        "    <tr>\n",
        "      <th>1</th>\n",
        "      <td>                    jessa_gamble_how_to_sleep.html</td>\n",
        "      <td> [evolution, humanity, personal, growth, scienc...</td>\n",
        "      <td>             Jessa Gamble: Our natural sleep cycle</td>\n",
        "      <td> let s start with day and night life evolved un...</td>\n",
        "    </tr>\n",
        "    <tr>\n",
        "      <th>2</th>\n",
        "      <td> handpring_puppet_co_the_genius_puppetry_behind...</td>\n",
        "      <td>   [animals, arts, design, entertainment, theater]</td>\n",
        "      <td> Handspring Puppet Co.: The genius puppetry beh...</td>\n",
        "      <td> adrian kohler: well we re here today to talk a...</td>\n",
        "    </tr>\n",
        "    <tr>\n",
        "      <th>3</th>\n",
        "      <td> katherine_fulton_you_are_the_future_of_philant...</td>\n",
        "      <td> [activism, bottom-up, community, globalissues,...</td>\n",
        "      <td> Katherine Fulton: You are the future ofphilant...</td>\n",
        "      <td> i want to help you re-perceive what philanthro...</td>\n",
        "    </tr>\n",
        "    <tr>\n",
        "      <th>4</th>\n",
        "      <td> chris_gerdes_the_future_race_car_150mph_and_no...</td>\n",
        "      <td>                        [cars, future, technology]</td>\n",
        "      <td> Chris Gerdes: The future race car -- 150mph, a...</td>\n",
        "      <td> so how many of you have ever gotten behind the...</td>\n",
        "    </tr>\n",
        "  </tbody>\n",
        "</table>\n",
        "</div>"
       ],
       "metadata": {},
       "output_type": "pyout",
       "prompt_number": 94,
       "text": [
        "                                                 url  \\\n",
        "0   stephen_palumbi_following_the_mercury_trail.html   \n",
        "1                     jessa_gamble_how_to_sleep.html   \n",
        "2  handpring_puppet_co_the_genius_puppetry_behind...   \n",
        "3  katherine_fulton_you_are_the_future_of_philant...   \n",
        "4  chris_gerdes_the_future_race_car_150mph_and_no...   \n",
        "\n",
        "                                              topics  \\\n",
        "0     [fish, health, mission, blue, oceans, science]   \n",
        "1  [evolution, humanity, personal, growth, scienc...   \n",
        "2    [animals, arts, design, entertainment, theater]   \n",
        "3  [activism, bottom-up, community, globalissues,...   \n",
        "4                         [cars, future, technology]   \n",
        "\n",
        "                                              author  \\\n",
        "0       Stephen Palumbi: Following the mercury trail   \n",
        "1              Jessa Gamble: Our natural sleep cycle   \n",
        "2  Handspring Puppet Co.: The genius puppetry beh...   \n",
        "3  Katherine Fulton: You are the future ofphilant...   \n",
        "4  Chris Gerdes: The future race car -- 150mph, a...   \n",
        "\n",
        "                                                text  \n",
        "0  it can be a very complicated thing the ocean a...  \n",
        "1  let s start with day and night life evolved un...  \n",
        "2  adrian kohler: well we re here today to talk a...  \n",
        "3  i want to help you re-perceive what philanthro...  \n",
        "4  so how many of you have ever gotten behind the...  "
       ]
      }
     ],
     "prompt_number": 94
    },
    {
     "cell_type": "code",
     "collapsed": false,
     "input": [
      "import lda # sudo pip install lda\n",
      "import lda.datasets"
     ],
     "language": "python",
     "metadata": {},
     "outputs": [],
     "prompt_number": 151
    },
    {
     "cell_type": "code",
     "collapsed": false,
     "input": [
      "model = lda.LDA(n_topics=20, n_iter=500, random_state=1)\n",
      "model.fit_transform(tfidf_matrix)"
     ],
     "language": "python",
     "metadata": {},
     "outputs": [
      {
       "metadata": {},
       "output_type": "pyout",
       "prompt_number": 163,
       "text": [
        "array([[  5.26398905e-06,   5.26398905e-06,   5.26398905e-06, ...,\n",
        "          5.26398905e-06,   5.26398905e-06,   5.26398905e-06],\n",
        "       [  5.00000000e-02,   5.00000000e-02,   5.00000000e-02, ...,\n",
        "          5.00000000e-02,   5.00000000e-02,   5.00000000e-02],\n",
        "       [  5.00000000e-02,   5.00000000e-02,   5.00000000e-02, ...,\n",
        "          5.00000000e-02,   5.00000000e-02,   5.00000000e-02],\n",
        "       ..., \n",
        "       [  5.00000000e-02,   5.00000000e-02,   5.00000000e-02, ...,\n",
        "          5.00000000e-02,   5.00000000e-02,   5.00000000e-02],\n",
        "       [  5.00000000e-02,   5.00000000e-02,   5.00000000e-02, ...,\n",
        "          5.00000000e-02,   5.00000000e-02,   5.00000000e-02],\n",
        "       [  5.00000000e-02,   5.00000000e-02,   5.00000000e-02, ...,\n",
        "          5.00000000e-02,   5.00000000e-02,   5.00000000e-02]])"
       ]
      }
     ],
     "prompt_number": 163
    },
    {
     "cell_type": "code",
     "collapsed": false,
     "input": [
      "len(model.topic_word_)"
     ],
     "language": "python",
     "metadata": {},
     "outputs": [
      {
       "metadata": {},
       "output_type": "pyout",
       "prompt_number": 165,
       "text": [
        "20"
       ]
      }
     ],
     "prompt_number": 165
    },
    {
     "cell_type": "code",
     "collapsed": false,
     "input": [
      "words = ' '.join(df.text)\n",
      "tokens = words.split()\n",
      "types = list(set(tokens))\n",
      "print len(types), len(tokens), len(types)/float(len(tokens))"
     ],
     "language": "python",
     "metadata": {},
     "outputs": [
      {
       "output_type": "stream",
       "stream": "stdout",
       "text": [
        "136668 2469435 0.055343833711\n"
       ]
      }
     ],
     "prompt_number": 153
    },
    {
     "cell_type": "code",
     "collapsed": false,
     "input": [
      "types[:10] # This data is actually pretty dirty..."
     ],
     "language": "python",
     "metadata": {},
     "outputs": [
      {
       "metadata": {},
       "output_type": "pyout",
       "prompt_number": 154,
       "text": [
        "['profoundthing',\n",
        " 'firestorm',\n",
        " 're-understood',\n",
        " 'toimprovements',\n",
        " 'throwtechnology',\n",
        " 'nunnery',\n",
        " 'soloud',\n",
        " 'degenerativedisease',\n",
        " 'muchbelieve',\n",
        " 're-inhabitation']"
       ]
      }
     ],
     "prompt_number": 154
    },
    {
     "cell_type": "code",
     "collapsed": false,
     "input": [
      "topic_word = model.topic_word_\n",
      "n_top_words = 8"
     ],
     "language": "python",
     "metadata": {},
     "outputs": [],
     "prompt_number": 155
    },
    {
     "cell_type": "code",
     "collapsed": false,
     "input": [
      "for i, topic_dist in enumerate(topic_word):\n",
      "    topic_words = np.array(types)[np.argsort(topic_dist)][:-n_top_words:-1]\n",
      "    print('Topic {}: {}'.format(i, ' '.join(topic_words)))"
     ],
     "language": "python",
     "metadata": {},
     "outputs": [
      {
       "output_type": "stream",
       "stream": "stdout",
       "text": [
        "Topic 0: exploded faster-- frenetic technologicalmagic beingexpressed sdeath snapshot\n",
        "Topic 1: exploded faster-- frenetic technologicalmagic beingexpressed sdeath snapshot\n",
        "Topic 2: exploded faster-- frenetic technologicalmagic beingexpressed sdeath snapshot"
       ]
      },
      {
       "output_type": "stream",
       "stream": "stdout",
       "text": [
        "\n",
        "Topic 3: exploded faster-- frenetic technologicalmagic beingexpressed sdeath snapshot\n",
        "Topic 4: exploded faster-- frenetic technologicalmagic beingexpressed sdeath snapshot"
       ]
      },
      {
       "output_type": "stream",
       "stream": "stdout",
       "text": [
        "\n",
        "Topic 5: exploded faster-- frenetic technologicalmagic beingexpressed sdeath snapshot\n",
        "Topic 6: exploded faster-- frenetic technologicalmagic beingexpressed sdeath snapshot"
       ]
      },
      {
       "output_type": "stream",
       "stream": "stdout",
       "text": [
        "\n",
        "Topic 7: exploded faster-- frenetic technologicalmagic beingexpressed sdeath snapshot\n",
        "Topic 8: exploded faster-- frenetic technologicalmagic beingexpressed sdeath snapshot"
       ]
      },
      {
       "output_type": "stream",
       "stream": "stdout",
       "text": [
        "\n",
        "Topic 9: exploded faster-- frenetic technologicalmagic beingexpressed sdeath snapshot\n",
        "Topic 10: exploded faster-- frenetic technologicalmagic beingexpressed sdeath snapshot"
       ]
      },
      {
       "output_type": "stream",
       "stream": "stdout",
       "text": [
        "\n",
        "Topic 11: exploded faster-- frenetic technologicalmagic beingexpressed sdeath snapshot\n",
        "Topic 12: exploded faster-- frenetic technologicalmagic beingexpressed sdeath snapshot"
       ]
      },
      {
       "output_type": "stream",
       "stream": "stdout",
       "text": [
        "\n",
        "Topic 13: exploded faster-- frenetic technologicalmagic beingexpressed sdeath snapshot\n",
        "Topic 14: exploded faster-- frenetic technologicalmagic beingexpressed sdeath snapshot"
       ]
      },
      {
       "output_type": "stream",
       "stream": "stdout",
       "text": [
        "\n",
        "Topic 15: profoundthing faster-- frenetic technologicalmagic beingexpressed sdeath snapshot\n",
        "Topic 16: exploded faster-- frenetic technologicalmagic beingexpressed sdeath snapshot"
       ]
      },
      {
       "output_type": "stream",
       "stream": "stdout",
       "text": [
        "\n",
        "Topic 17: exploded faster-- frenetic technologicalmagic beingexpressed sdeath snapshot\n",
        "Topic 18: exploded faster-- frenetic technologicalmagic beingexpressed sdeath snapshot"
       ]
      },
      {
       "output_type": "stream",
       "stream": "stdout",
       "text": [
        "\n",
        "Topic 19: exploded faster-- frenetic technologicalmagic beingexpressed sdeath snapshot\n"
       ]
      }
     ],
     "prompt_number": 166
    },
    {
     "cell_type": "code",
     "collapsed": false,
     "input": [
      "# Wow. That is fabulous."
     ],
     "language": "python",
     "metadata": {},
     "outputs": [],
     "prompt_number": 157
    },
    {
     "cell_type": "code",
     "collapsed": false,
     "input": [
      "# It's probably because there are too many words that are getting combined together in the ORIGINAL data. Yuck.\n",
      "# So, we write a function to split those combined words up?"
     ],
     "language": "python",
     "metadata": {},
     "outputs": [],
     "prompt_number": 158
    },
    {
     "cell_type": "code",
     "collapsed": false,
     "input": [
      "# Word list from : http://www.keithv.com/software/wlist/\n",
      "\n",
      "wordfile = open('./wlist_match7.txt', 'r')\n",
      "wordlist = wordfile.readlines()\n",
      "wordfile.close()\n",
      "\n",
      "dictionary = {word.strip(): '' for word in wordlist}"
     ],
     "language": "python",
     "metadata": {},
     "outputs": [],
     "prompt_number": 168
    },
    {
     "cell_type": "code",
     "collapsed": false,
     "input": [
      "def getRealWords(word, dictionary):\n",
      "    if word in dictionary:\n",
      "        return str(word)\n",
      "    else:\n",
      "        wordlength = len(word)\n",
      "        for i in range(wordlength):\n",
      "            part = word[:i]\n",
      "            if part in dictionary:\n",
      "                if word[i:] in dictionary:\n",
      "                    return str(part) + ' ' + str(word[i:])\n",
      "                    \n",
      "        return str(word)\n",
      "                "
     ],
     "language": "python",
     "metadata": {},
     "outputs": [],
     "prompt_number": 239
    },
    {
     "cell_type": "code",
     "collapsed": false,
     "input": [
      "def processText(text, dictionary):\n",
      "    string = ''\n",
      "    words = text.split()\n",
      "    for word in words:\n",
      "        string += ' ' + getRealWords(word, dictionary)\n",
      "    return string\n",
      "    "
     ],
     "language": "python",
     "metadata": {},
     "outputs": [],
     "prompt_number": 243
    },
    {
     "cell_type": "code",
     "collapsed": false,
     "input": [
      "df['clean'] = df.text.apply(\n",
      "    lambda x: processText(x, dictionary))"
     ],
     "language": "python",
     "metadata": {},
     "outputs": [],
     "prompt_number": 244
    },
    {
     "cell_type": "code",
     "collapsed": false,
     "input": [
      "df.clean.head()"
     ],
     "language": "python",
     "metadata": {},
     "outputs": [
      {
       "metadata": {},
       "output_type": "pyout",
       "prompt_number": 245,
       "text": [
        "0     it can be a very complicated thing the ocean ...\n",
        "1     let s start with day and night life evolved u...\n",
        "2     adrian kohler: well we re here today to talk ...\n",
        "3     i want to help you re-perceive what philanthr...\n",
        "4     so how many of you have ever gotten behind th...\n",
        "Name: clean, dtype: object"
       ]
      }
     ],
     "prompt_number": 245
    },
    {
     "cell_type": "code",
     "collapsed": false,
     "input": [
      "words = ' '.join(df.clean)\n",
      "tokens = words.split()\n",
      "types = list(set(tokens))\n",
      "print len(types), len(tokens), len(types)/float(len(tokens))"
     ],
     "language": "python",
     "metadata": {},
     "outputs": [
      {
       "output_type": "stream",
       "stream": "stdout",
       "text": [
        "57278 2617517 0.0218825703902\n"
       ]
      }
     ],
     "prompt_number": 295
    },
    {
     "cell_type": "code",
     "collapsed": false,
     "input": [
      "# Looks better in terms of type to token ratio\n",
      "# So let's rebuild everything! Here is\n",
      "# 1.) TFIDF\n",
      "# 2.) SVD\n",
      "# 3.) TSNE\n",
      "# 4.) Kmeans\n",
      "# 5.) Plotting"
     ],
     "language": "python",
     "metadata": {},
     "outputs": [],
     "prompt_number": 248
    },
    {
     "cell_type": "code",
     "collapsed": false,
     "input": [
      "tfidf_matrix = tfidfer.fit_transform(df.clean)\n",
      "svd = TruncatedSVD(n_components=1000) # Reduction #1 : 10x126339  dimensions -> 1000 dimensions\n",
      "svd_matrix = svd.fit_transform(tfidf_matrix)\n",
      "tsne = TSNE(n_components=3) # Reduction #2 1000 dimensions ->3 dimensions\n",
      "tsne_matrix = tsne.fit_transform(svd_matrix)\n",
      "kmeans = KMeans(init='k-means++', n_clusters=5, n_init=100)\n",
      "kmeans.fit(tsne_matrix)\n",
      "d = {0:'g',1:'r', 2:'y', 3:'b', 4:'w'}\n",
      "kcolors = [d[i] for i in kmeans.labels_]\n",
      "fig = plt.figure()\n",
      "ax = fig.add_subplot(111, projection='3d')\n",
      "ax.scatter(tsne_matrix[:,0],tsne_matrix[:,1],tsne_matrix[:,2], c=kcolors, alpha=.6)\n",
      "\n",
      "# This is with 5 clusters"
     ],
     "language": "python",
     "metadata": {},
     "outputs": [
      {
       "metadata": {},
       "output_type": "pyout",
       "prompt_number": 249,
       "text": [
        "<mpl_toolkits.mplot3d.art3d.Patch3DCollection at 0x126372450>"
       ]
      },
      {
       "metadata": {},
       "output_type": "display_data",
       "png": "[encoded data removed]",
       "text": [
        "<matplotlib.figure.Figure at 0x125dcd990>"
       ]
      }
     ],
     "prompt_number": 249
    },
    {
     "cell_type": "markdown",
     "metadata": {},
     "source": [
      "# Latent Dirichlet Allocation"
     ]
    },
    {
     "cell_type": "code",
     "collapsed": false,
     "input": [
      "from sklearn.feature_extraction.text import CountVectorizer\n",
      "counter = CountVectorizer?"
     ],
     "language": "python",
     "metadata": {},
     "outputs": [],
     "prompt_number": 303
    },
    {
     "cell_type": "code",
     "collapsed": false,
     "input": [
      "counter = CountVectorizer()"
     ],
     "language": "python",
     "metadata": {},
     "outputs": [],
     "prompt_number": 306
    },
    {
     "cell_type": "code",
     "collapsed": false,
     "input": [
      "count_matrix = counter.fit_transform(df.clean)\n",
      "count_matrix[:2]"
     ],
     "language": "python",
     "metadata": {},
     "outputs": [
      {
       "metadata": {},
       "output_type": "pyout",
       "prompt_number": 309,
       "text": [
        "<2x47521 sparse matrix of type '<type 'numpy.int64'>'\n",
        "\twith 1006 stored elements in Compressed Sparse Row format>"
       ]
      }
     ],
     "prompt_number": 309
    },
    {
     "cell_type": "code",
     "collapsed": false,
     "input": [
      "model = lda.LDA(n_topics=20, n_iter=500, random_state=1)\n",
      "model.fit_transform(count_matrix)\n",
      "topic_word = model.topic_word_\n",
      "n_top_words = 8\n",
      "for i, topic_dist in enumerate(topic_word):\n",
      "    topic_words = np.array(types)[np.argsort(topic_dist)][:-n_top_words:-1]\n",
      "    print('Topic {}: {}'.format(i, ' '.join(topic_words)))"
     ],
     "language": "python",
     "metadata": {},
     "outputs": [
      {
       "output_type": "stream",
       "stream": "stdout",
       "text": [
        "Topic 0: pollen in1950 lower-frequencybehavior un-canadian lineages songwriters lithium-6\n",
        "Topic 1: sschools thatletter-writing reward: top/bottom rages argo weird-looking\n",
        "Topic 2: t&amp;a grape phrase lithium-6 tronic greenwood siam\n",
        "Topic 3: shettar isometric bobcat saying\"don worldproblems: aspects kevlar\n",
        "Topic 4: t&amp;a overflow cheered webby lands hellespointicadepressio tronic\n",
        "Topic 5: songwriters in1950 cell-derived intensive-care ritchie toot ds"
       ]
      },
      {
       "output_type": "stream",
       "stream": "stdout",
       "text": [
        "\n",
        "Topic 6: grape concert songwriters zeolite eric ds disappoint\n",
        "Topic 7: summits schools wastebasket swell widder: over-sized argo\n",
        "Topic 8: intensive-care lower-frequencybehavior in1950 toot andrea disappoint thugs\n",
        "Topic 9: pollen pathetically un-canadian tronic t&amp;a over-sized fingerprint"
       ]
      },
      {
       "output_type": "stream",
       "stream": "stdout",
       "text": [
        "\n",
        "Topic 10: lineages jill summits nsf seb argo feminism\n",
        "Topic 11: lineages lower-frequencybehavior summits luminances in1950 argo feminism\n",
        "Topic 12: pollen in1950 lower-frequencybehavior un-canadian pathetically luminances summits\n",
        "Topic 13: pollen un-canadian in1950 lower-frequencybehavior luminances pathetically dawn"
       ]
      },
      {
       "output_type": "stream",
       "stream": "stdout",
       "text": [
        "\n",
        "Topic 14: lineages pollen childlike dawn in1950 lower-frequencybehavior seb\n",
        "Topic 15: pollen in1950 un-canadian childlike lower-frequencybehavior pathetically luminances\n",
        "Topic 16: lte far-right forests cul-de-sacand brink down-cycled angeline\n",
        "Topic 17: lte encroaches cul-de-sacand doc anthropogenic inflammation meretricious"
       ]
      },
      {
       "output_type": "stream",
       "stream": "stdout",
       "text": [
        "\n",
        "Topic 18: power utter mvery dumas originalhigh-end overexcited dmanisi\n",
        "Topic 19: apprehension mvery measurements cards\" preityzinta org: buggies\n"
       ]
      }
     ],
     "prompt_number": 310
    },
    {
     "cell_type": "code",
     "collapsed": false,
     "input": [],
     "language": "python",
     "metadata": {},
     "outputs": [],
     "prompt_number": 233
    },
    {
     "cell_type": "code",
     "collapsed": false,
     "input": [
      "    "
     ],
     "language": "python",
     "metadata": {},
     "outputs": [],
     "prompt_number": 253
    },
    {
     "cell_type": "code",
     "collapsed": false,
     "input": [],
     "language": "python",
     "metadata": {},
     "outputs": []
    },
    {
     "cell_type": "code",
     "collapsed": false,
     "input": [],
     "language": "python",
     "metadata": {},
     "outputs": [],
     "prompt_number": 264
    },
    {
     "cell_type": "code",
     "collapsed": false,
     "input": [],
     "language": "python",
     "metadata": {},
     "outputs": []
    },
    {
     "cell_type": "code",
     "collapsed": false,
     "input": [],
     "language": "python",
     "metadata": {},
     "outputs": []
    },
    {
     "cell_type": "code",
     "collapsed": false,
     "input": [],
     "language": "python",
     "metadata": {},
     "outputs": []
    }
   ],
   "metadata": {}
  }
 ]
}
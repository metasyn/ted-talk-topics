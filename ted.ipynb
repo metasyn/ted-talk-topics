{
 "metadata": {
  "name": "",
  "signature": "sha256:d1f05af83b766c180c42ee400af5e0172bd713c5bc419bcac6a0c1205c888c36"
 },
 "nbformat": 3,
 "nbformat_minor": 0,
 "worksheets": [
  {
   "cells": [
    {
     "cell_type": "markdown",
     "metadata": {},
     "source": [
      "# The Topics of TED 2013"
     ]
    },
    {
     "cell_type": "code",
     "collapsed": false,
     "input": [
      "import numpy as np\n",
      "import pandas as pd\n",
      "import seaborn as sns\n",
      "import nltk\n",
      "import matplotlib.pyplot as plt\n",
      "import re\n",
      "\n",
      "%matplotlib inline"
     ],
     "language": "python",
     "metadata": {},
     "outputs": [],
     "prompt_number": 165
    },
    {
     "cell_type": "code",
     "collapsed": false,
     "input": [
      "# From OPUS: http://opus.lingfil.uu.se/TED2013.php\n",
      "\n",
      "infile=open('./ted.xml', 'r')\n",
      "raw=infile.read()\n",
      "infile.close()"
     ],
     "language": "python",
     "metadata": {},
     "outputs": [],
     "prompt_number": 166
    },
    {
     "cell_type": "code",
     "collapsed": false,
     "input": [
      "# I can see my inpsecting the data that each talk starts with a an empty line <s id....></s>, except the first\n",
      "# Secondly, there is another empty line before the talk begins, after a short intro & title\n",
      "\n",
      "print raw[:1000]"
     ],
     "language": "python",
     "metadata": {},
     "outputs": [
      {
       "output_type": "stream",
       "stream": "stdout",
       "text": [
        "<?xml version=\"1.0\" encoding=\"utf-8\"?>\n",
        "<letsmt version=\"1.0\">\n",
        "<head></head>\n",
        "<body>\n",
        "<s id=\"1\">http://www.ted.com/talks/stephen_palumbi_following_the_mercury_trail.html</s>\n",
        "<s id=\"2\">There's a tight and surprising link between the ocean'shealth and ours, says marine biologist Stephen Palumbi. He showshow toxins at the bottom of the ocean food chain find their wayinto our bodies, with a shocking story of toxic contamination froma Japanese fish market. His work points a way forward for savingthe oceans' health -- and humanity's.</s>\n",
        "<s id=\"3\">fish,health,mission blue,oceans,science</s>\n",
        "<s id=\"4\">899</s>\n",
        "<s id=\"5\">Stephen Palumbi: Following the mercury trail</s>\n",
        "<s id=\"6\"></s>\n",
        "<s id=\"7\">It can be a very complicated thing, the ocean.</s>\n",
        "<s id=\"8\">And it can be a very complicated thing, what human healthis.</s>\n",
        "<s id=\"9\">And bringing those two together might seem a very dauntingtask,</s>\n",
        "<s id=\"10\">but what I'm going to try to say is that even in thatcomplexity, there's some simple themes th\n"
       ]
      }
     ],
     "prompt_number": 167
    },
    {
     "cell_type": "code",
     "collapsed": false,
     "input": [
      "chunks=re.split(r'http://www.ted.com/talks/', raw) "
     ],
     "language": "python",
     "metadata": {},
     "outputs": [],
     "prompt_number": 223
    },
    {
     "cell_type": "code",
     "collapsed": false,
     "input": [
      "chunks[1][:100]"
     ],
     "language": "python",
     "metadata": {},
     "outputs": [
      {
       "metadata": {},
       "output_type": "pyout",
       "prompt_number": 224,
       "text": [
        "'stephen_palumbi_following_the_mercury_trail.html</s>\\n<s id=\"2\">There\\'s a tight and surprising link b'"
       ]
      }
     ],
     "prompt_number": 224
    },
    {
     "cell_type": "code",
     "collapsed": false,
     "input": [
      "chunks[-1][-100:]"
     ],
     "language": "python",
     "metadata": {},
     "outputs": [
      {
       "metadata": {},
       "output_type": "pyout",
       "prompt_number": 225,
       "text": [
        "'<s id=\"162680\">Thank you very much. Thank you. Thank you.</s>\\n<s id=\"162681\"></s>\\n</body>\\n</letsmt>\\n'"
       ]
      }
     ],
     "prompt_number": 225
    },
    {
     "cell_type": "code",
     "collapsed": false,
     "input": [
      "chunks[0]"
     ],
     "language": "python",
     "metadata": {},
     "outputs": [
      {
       "metadata": {},
       "output_type": "pyout",
       "prompt_number": 226,
       "text": [
        "'<?xml version=\"1.0\" encoding=\"utf-8\"?>\\n<letsmt version=\"1.0\">\\n<head></head>\\n<body>\\n<s id=\"1\">'"
       ]
      }
     ],
     "prompt_number": 226
    },
    {
     "cell_type": "code",
     "collapsed": false,
     "input": [
      "chunks.pop(0)"
     ],
     "language": "python",
     "metadata": {},
     "outputs": [
      {
       "metadata": {},
       "output_type": "pyout",
       "prompt_number": 227,
       "text": [
        "'<?xml version=\"1.0\" encoding=\"utf-8\"?>\\n<letsmt version=\"1.0\">\\n<head></head>\\n<body>\\n<s id=\"1\">'"
       ]
      }
     ],
     "prompt_number": 227
    },
    {
     "cell_type": "code",
     "collapsed": false,
     "input": [
      "def scrub(text):\n",
      "    text = re.sub('<.+?>|[\\?\\!\\.\\,\\']', ' ', text)\n",
      "    return [i.lower().strip() for i in text.split() if re.match(r'[A-Za-z]', i)]\n"
     ],
     "language": "python",
     "metadata": {},
     "outputs": [],
     "prompt_number": 228
    },
    {
     "cell_type": "code",
     "collapsed": false,
     "input": [
      "scrub_test = scrub(chunks[0]); scrub_test[:10]"
     ],
     "language": "python",
     "metadata": {},
     "outputs": [
      {
       "metadata": {},
       "output_type": "pyout",
       "prompt_number": 229,
       "text": [
        "['stephen_palumbi_following_the_mercury_trail',\n",
        " 'html',\n",
        " 'there',\n",
        " 's',\n",
        " 'a',\n",
        " 'tight',\n",
        " 'and',\n",
        " 'surprising',\n",
        " 'link',\n",
        " 'between']"
       ]
      }
     ],
     "prompt_number": 229
    },
    {
     "cell_type": "code",
     "collapsed": false,
     "input": [
      "# We should get rid of that URL first"
     ],
     "language": "python",
     "metadata": {},
     "outputs": [],
     "prompt_number": 230
    },
    {
     "cell_type": "code",
     "collapsed": false,
     "input": [
      "chunks[6].splitlines()"
     ],
     "language": "python",
     "metadata": {},
     "outputs": [
      {
       "metadata": {},
       "output_type": "pyout",
       "prompt_number": 231,
       "text": [
        "['majora_carter_3_stories_of_local_ecoactivism.html</s>',\n",
        " '<s id=\"684\">The future of green is local -- and entrepreneurial. AtTEDxMidwest, Majora Carter brings us the stories of three peoplewho are saving their own communities while saving the planet. Callit \"hometown security.\"</s>',\n",
        " '<s id=\"685\">business,community,economics,green</s>',\n",
        " '<s id=\"686\">1041</s>',\n",
        " '<s id=\"687\">Majora Carter: 3 stories of localeco-entrepreneurship</s>',\n",
        " '<s id=\"688\"></s>',\n",
        " '<s id=\"689\">So today, I\\'m going to tell you about some people whodidn\\'t move out of their neighborhoods.</s>',\n",
        " '<s id=\"690\">The first one is happening right here in Chicago.</s>',\n",
        " '<s id=\"691\">Brenda Palms-Farber was hired to help ex-convicts reentersociety and keep them from going back into prison.</s>',\n",
        " '<s id=\"692\">Currently, taxpayers spend about 60,000 dollars per yearsending a person to jail.</s>',\n",
        " '<s id=\"693\">We know that two-thirds of them are going to goback.</s>',\n",
        " '<s id=\"694\">I find it interesting that, for every one dollar we spend,however, on early childhood education, like Head Start, we save 17dollars on stuff like incarceration in the future.</s>',\n",
        " '<s id=\"695\">Or -- think about it -- that 60,000 dollars is more thanwhat it costs to send one person to Harvard as well.</s>',\n",
        " '<s id=\"696\">But Brenda, not being phased by stuff like that, took alook at her challenge and came up with a not-so-obvious solution:create a business that produces skin care products fromhoney.</s>',\n",
        " '<s id=\"697\">Okay, it might be obvious to some of you; it wasn\\'t tome.</s>',\n",
        " '<s id=\"698\">It\\'s the basis of growing a form of social innovation thathas real potential.</s>',\n",
        " '<s id=\"699\">She hired seemingly unemployable men and women to care forthe bees, harvest the honey and make value-added products that theymarketed themselves, and that were later sold at WholeFoods.</s>',\n",
        " '<s id=\"700\">She combined employment experience and training with lifeskills they needed, like anger-management and teamwork, and alsohow to talk to future employers about how their experiencesactually demonstrated the lessons that they had learned and theireagerness to learn more.</s>',\n",
        " '<s id=\"701\">Less than four percent of the folks that went through herprogram actually go back to jail.</s>',\n",
        " '<s id=\"702\">So these young men and women learned job-readiness and lifeskills through bee keeping and became productive citizens in theprocess.</s>',\n",
        " '<s id=\"703\">Talk about a sweet beginning.</s>',\n",
        " '<s id=\"704\">Now, I\\'m going to take you to Los Angeles,</s>',\n",
        " '<s id=\"705\">and lots of people know that L.A. has its issues.</s>',\n",
        " '<s id=\"706\">But I\\'m going to talk about L.A.\\'s water issues rightnow.</s>',\n",
        " '<s id=\"707\">They have not enough water on most days and too much tohandle when it rains.</s>',\n",
        " '<s id=\"708\">Currently, 20 percent of California\\'s energy consumption isused to pump water into mostly Southern California.</s>',\n",
        " '<s id=\"709\">Their spending loads, loads, to channel that rainwater outinto the ocean when it rains and floods as well.</s>',\n",
        " '<s id=\"710\">Now Andy Lipkis is working to help L.A. cut infrastructurecosts associated with water management and urban heat island --linking trees, people and technology to create a more livablecity.</s>',\n",
        " '<s id=\"711\">All that green stuff actually naturally absorbs stormwater, also helps cool our cities.</s>',\n",
        " '<s id=\"712\">Because, come to think about it, do you really wantair-conditioning, or is it a cooler room that you want?</s>',\n",
        " '<s id=\"713\">How you get it shouldn\\'t make that much of adifference.</s>',\n",
        " '<s id=\"714\">So a few years ago, L.A. County decided that they needed tospend 2.5 billion dollars to repair the city schools.</s>',\n",
        " '<s id=\"715\">And Andy and his team discovered that they were going tospend 200 million of those dollars on asphalt to surround theschools themselves.</s>',\n",
        " '<s id=\"716\">And by presenting a really strong economic case, theyconvinced the L.A. government that replacing that asphalt withtrees and other greenery, that the schools themselves would savethe system more on energy than they spend on horticulturalinfrastructure.</s>',\n",
        " '<s id=\"717\">So ultimately, 20 million square feet of asphalt wasreplaced or avoided, and electrical consumption forair-conditioning went down, while employment for people to maintainthose grounds went up, resulting in a net-savings to the system,but also healthier students and schools system employees aswell.</s>',\n",
        " '<s id=\"718\">Now Judy Bonds is a coal miner\\'s daughter.</s>',\n",
        " '<s id=\"719\">Her family has eight generations in a town calledWhitesville, West Virginia.</s>',\n",
        " '<s id=\"720\">And if anyone should be clinging to the former glory of thecoal mining history, and of the town, it should be Judy.</s>',\n",
        " '<s id=\"721\">But the way coal is mined right now is different from thedeep mines that her father and her father\\'s father would go downinto and that employed essentially thousands and thousands ofpeople.</s>',\n",
        " '<s id=\"722\">Now, two dozen men can tear down a mountain in severalmonths, and only for about a few years\\' worth of coal.</s>',\n",
        " '<s id=\"723\">That kind of technology is called \"mountaintopremoval.\"</s>',\n",
        " '<s id=\"724\">It can make a mountain go from this to this in a few shortmonths.</s>',\n",
        " '<s id=\"725\">Just imagine that the air surrounding these places -- it\\'sfilled with the residue of explosives and coal.</s>',\n",
        " '<s id=\"726\">When we visited, it gave some of the people we were withthis strange little cough after being only there for just a fewhours or so -- not just miners, but everybody.</s>',\n",
        " '<s id=\"727\">And Judy saw her landscape being destroyed and her waterpoisoned.</s>',\n",
        " '<s id=\"728\">And the coal companies just move on after the mountain wasemptied, leaving even more unemployment in their wake.</s>',\n",
        " '<s id=\"729\">But she also saw the difference in potential wind energy onan intact mountain, and one that was reduced in elevation by over2,000 feet.</s>',\n",
        " '<s id=\"730\">Three years of dirty energy with not many jobs, orcenturies of clean energy with the potential for developingexpertise and improvements in efficiency based on technical skills,and developing local knowledge about how to get the most out ofthat region\\'s wind.</s>',\n",
        " '<s id=\"731\">She calculated the up-front cost and the payback over time,and it\\'s a net-plus on so many levels for the local, national andglobal economy.</s>',\n",
        " '<s id=\"732\">It\\'s a longer payback than mountaintop removal, but thewind energy actually pays back forever.</s>',\n",
        " '<s id=\"733\">Now mountaintop removal pays very little money to thelocals, and it gives them a lot of misery.</s>',\n",
        " '<s id=\"734\">The water is turned into goo.</s>',\n",
        " '<s id=\"735\">Most people are still unemployed, leading to most of thesame kinds of social problems that unemployed people in innercities also experience -- drug and alcohol abuse, domestic abuse,teen pregnancy and poor heath, as well.</s>',\n",
        " '<s id=\"736\">Now Judy and I -- I have to say -- totally related to eachother.</s>',\n",
        " '<s id=\"737\">Not quite an obvious alliance.</s>',\n",
        " '<s id=\"738\">I mean, literally, her hometown is called Whitesville, WestVirginia.</s>',\n",
        " '<s id=\"739\">I mean, they are not -- they ain\\'t competing for thebirthplace of hip hop title or anything like that.</s>',\n",
        " '<s id=\"740\">But the back of my T-shirt, the one that she gave me, says,\"Save the endangered hillbillies.\"</s>',\n",
        " '<s id=\"741\">So homegirls and hillbillies we got it together and totallyunderstand that this is what it\\'s all about.</s>',\n",
        " '<s id=\"742\">But just a few months ago, Judy was diagnosed withstage-three lung cancer.</s>',\n",
        " '<s id=\"743\">Yeah.</s>',\n",
        " '<s id=\"744\">And it has since moved to her bones and her brain.</s>',\n",
        " '<s id=\"745\">And I just find it so bizarre that she\\'s suffering from thesame thing that she tried so hard to protect people from.</s>',\n",
        " '<s id=\"746\">But her dream of Coal River Mountain Wind is herlegacy.</s>',\n",
        " '<s id=\"747\">And she might not get to see that mountaintop.</s>',\n",
        " '<s id=\"748\">But rather than writing yet some kind of manifesto orsomething, she\\'s leaving behind a business plan to make ithappen.</s>',\n",
        " '<s id=\"749\">That\\'s what my homegirl is doing.</s>',\n",
        " '<s id=\"750\">So I\\'m so proud of that.</s>',\n",
        " '<s id=\"751\">But these three people don\\'t know each other, but they dohave an awful lot in common.</s>',\n",
        " '<s id=\"752\">They\\'re all problem solvers, and they\\'re just some of themany examples that I really am privileged to see, meet and learnfrom in the examples of the work that I do now.</s>',\n",
        " '<s id=\"753\">I was really lucky to have them all featured on myCorporation for Public Radio radio show calledThePromisedLand.org.</s>',\n",
        " '<s id=\"754\">Now they\\'re all very practical visionaries.</s>',\n",
        " '<s id=\"755\">They take a look at the demands that are out there --beauty products, healthy schools, electricity -- and how themoney\\'s flowing to meet those demands.</s>',\n",
        " '<s id=\"756\">And when the cheapest solutions involve reducing the numberof jobs, you\\'re left with unemployed people, and those peoplearen\\'t cheap.</s>',\n",
        " '<s id=\"757\">In fact, they make up some of what I call the mostexpensive citizens, and they include generationally impoverished,traumatized vets returning from the Middle East, people coming outof jail.</s>',\n",
        " '<s id=\"758\">And for the veterans in particular, the V.A. said there\\'s asix-fold increase in mental health pharmaceuticals by vets since2003.</s>',\n",
        " '<s id=\"759\">I think that number\\'s probably going to go up.</s>',\n",
        " '<s id=\"760\">They\\'re not the largest number of people, but they are someof the most expensive --</s>',\n",
        " '<s id=\"761\">and in terms of the likelihood for domestic abuse, drug andalcohol abuse, poor performance by their kids in schools and alsopoor health as a result of stress.</s>',\n",
        " '<s id=\"762\">So these three guys all understand how to productivelychannel dollars through our local economies to meet existing marketdemands, reduce the social problems that we have now and preventnew problems in the future.</s>',\n",
        " '<s id=\"763\">And there are plenty of other examples like that.</s>',\n",
        " '<s id=\"764\">One problem: waste handling and unemployment.</s>',\n",
        " '<s id=\"765\">Even when we think or talk about recycling, lots ofrecyclable stuff ends up getting incinerated or in landfills andleaving many municipalities, diversion rates -- they leave much tobe recycled.</s>',\n",
        " '<s id=\"766\">And where is this waste handled? Usually in poorcommunities.</s>',\n",
        " '<s id=\"767\">And we know that eco-industrial business, these kinds ofbusiness models -- there\\'s a model in Europe called theeco-industrial park, where either the waste of one company is theraw material for another, or you use recycled materials to makegoods that you can actually use and sell.</s>',\n",
        " '<s id=\"768\">We can create these local markets and incentives forrecycled materials to be used as raw materials formanufacturing.</s>',\n",
        " '<s id=\"769\">And in my hometown, we actually tried to do one of these inthe Bronx, but our mayor decided what he wanted to see was a jailon that same spot.</s>',\n",
        " '<s id=\"770\">Fortunately -- because we wanted to create hundreds of jobs-- but after many years, the city wanted to build a jail. They\\'vesince abandoned that project, thank goodness.</s>',\n",
        " '<s id=\"771\">Another problem: unhealthy food systems andunemployment.</s>',\n",
        " '<s id=\"772\">Working-class and poor urban Americans are not benefitingeconomically from our current food system.</s>',\n",
        " '<s id=\"773\">It relies too much on transportation, chemicalfertilization, big use of water and also refrigeration.</s>',\n",
        " '<s id=\"774\">Mega agricultural operations often are responsible forpoisoning our waterways and our land, and it produces thisincredibly unhealthy product that costs us billions in healthcareand lost productivity.</s>',\n",
        " '<s id=\"775\">And so we know \"urban ag\" is a big buzz topic this time ofthe year, but it\\'s mostly gardening, which has some value incommunity building -- lots of it -- but it\\'s not in terms ofcreating jobs or for food production.</s>',\n",
        " '<s id=\"776\">The numbers just aren\\'t there.</s>',\n",
        " '<s id=\"777\">Part of my work now is really laying the groundwork tointegrate urban ag and rural food systems to hasten the demise ofthe 3,000-mile salad by creating a national brand of urban-grownproduce in every city, that uses regional growing power andaugments it with indoor growing facilities, owned and operated bysmall growers, where now there are only consumers.</s>',\n",
        " '<s id=\"778\">This can support seasonal farmers around metro areas whoare losing out because they really can\\'t meet the year-round demandfor produce.</s>',\n",
        " '<s id=\"779\">It\\'s not a competition with rural farm; it\\'s actuallyreinforcements.</s>',\n",
        " '<s id=\"780\">It allies in a really positive and economically viable foodsystem.</s>',\n",
        " '<s id=\"781\">The goal is to meet the cities\\' institutional demands forhospitals, senior centers, schools, daycare centers, and produce anetwork of regional jobs, as well.</s>',\n",
        " '<s id=\"782\">This is smart infrastructure.</s>',\n",
        " '<s id=\"783\">And how we manage our built environment affects the healthand well-being of people every single day.</s>',\n",
        " '<s id=\"784\">Our municipalities, rural and urban, play the operationalcourse of infrastructure -- things like waste disposal, energydemand, as well as social costs of unemployment, drop-out rates,incarceration rates and the impacts of various public healthcosts.</s>',\n",
        " '<s id=\"785\">Smart infrastructure can provide cost-saving ways formunicipalities to handle both infrastructure and socialneeds.</s>',\n",
        " '<s id=\"786\">And we want to shift the systems that open the doors forpeople who were formerly tax burdens to become part of the taxbase.</s>',\n",
        " '<s id=\"787\">And imagine a national business model that creates localjobs and smart infrastructure to improve local economicstability.</s>',\n",
        " '<s id=\"788\">So I\\'m hoping you can see a little theme here.</s>',\n",
        " '<s id=\"789\">These examples indicate a trend.</s>',\n",
        " '<s id=\"790\">I haven\\'t created it, and it\\'s not happening byaccident.</s>',\n",
        " '<s id=\"791\">I\\'m noticing that it\\'s happening all over the country, andthe good news is that it\\'s growing.</s>',\n",
        " '<s id=\"792\">And we all need to be invested in it.</s>',\n",
        " '<s id=\"793\">It is an essential pillar to this country\\'srecovery.</s>',\n",
        " '<s id=\"794\">And I call it \"hometown security.\"</s>',\n",
        " '<s id=\"795\">The recession has us reeling and fearful, and there\\'ssomething in the air these days that is also veryempowering.</s>',\n",
        " '<s id=\"796\">It\\'s a realization that we are the key to our ownrecovery.</s>',\n",
        " '<s id=\"797\">Now is the time for us to act in our own communities wherewe think local and we act local.</s>',\n",
        " '<s id=\"798\">And when we do that, our neighbors -- be they next-door, orin the next state, or in the next country -- will be justfine.</s>',\n",
        " '<s id=\"799\">The sum of the local is the global.</s>',\n",
        " '<s id=\"800\">Hometown security means rebuilding our natural defenses,putting people to work, restoring our natural systems.</s>',\n",
        " '<s id=\"801\">Hometown security means creating wealth here at home,instead of destroying it overseas. Tackling social andenvironmental problems at the same time with the same solutionyields great cost savings, wealth generation and nationalsecurity.</s>',\n",
        " '<s id=\"802\">Many great and inspiring solutions have been generatedacross America.</s>',\n",
        " '<s id=\"803\">The challenge for us now is to identify and supportcountless more.</s>',\n",
        " '<s id=\"804\">Now, hometown security is about taking care of your own,but it\\'s not like the old saying, \"charity begins athome.\"</s>',\n",
        " '<s id=\"805\">I recently read a book called \"Love Leadership\" by JohnHope Bryant.</s>',\n",
        " '<s id=\"806\">And it\\'s about leading in a world that really does seem tobe operating on the basis of fear.</s>',\n",
        " '<s id=\"807\">And reading that book made me reexamine that theory becauseI need to explain what I mean by that.</s>',\n",
        " '<s id=\"808\">See, my dad was a great, great man in many ways.</s>',\n",
        " '<s id=\"809\">He grew up in the segregated South, escaped lynching andall that during some really hard times, and he provided a reallystable home for me and my siblings and a whole bunch of otherpeople that fell on hard times.</s>',\n",
        " '<s id=\"810\">But, like all of us, he had some problems.</s>',\n",
        " '<s id=\"811\">And his was gambling, compulsively.</s>',\n",
        " '<s id=\"812\">To him that phrase, \"Charity begins at home,\" meant that mypayday -- or someone else\\'s -- would just happen to coincide withhis lucky day.</s>',\n",
        " '<s id=\"813\">So you need to help him out.</s>',\n",
        " '<s id=\"814\">And sometimes I would loan him money from my after-schoolor summer jobs, and he always had the great intention of paying meback with interest, of course, after he hit it big.</s>',\n",
        " '<s id=\"815\">And he did sometimes, believe it or not, at a racetrack inLos Angeles -- one reason to love L.A. -- back in the1940s.</s>',\n",
        " '<s id=\"816\">He made 15,000 dollars cash and bought the house that Igrew up in.</s>',\n",
        " '<s id=\"817\">So I\\'m not that unhappy about that.</s>',\n",
        " '<s id=\"818\">But listen, I did feel obligated to him, and I grew up --then I grew up.</s>',\n",
        " '<s id=\"819\">And I\\'m a grown woman now,</s>',\n",
        " '<s id=\"820\">and I have learned a few things along the way.</s>',\n",
        " '<s id=\"821\">To me, charity often is just about giving, because you\\'resupposed to, or because it\\'s what you\\'ve always done, or it\\'s aboutgiving until it hurts.</s>',\n",
        " '<s id=\"822\">I\\'m about providing the means to build something that willgrow and intensify its original investment and not just requiregreater giving next year -- I\\'m not trying to feed thehabit.</s>',\n",
        " '<s id=\"823\">I spent some years watching how good intentions forcommunity empowerment, that were supposed to be there to supportthe community and empower it, actually left people in the same, ifnot worse, position that they were in before.</s>',\n",
        " '<s id=\"824\">And over the past 20 years, we\\'ve spent record amounts ofphilanthropic dollars on social problems, yet educational outcomes,malnutrition, incarceration, obesity, diabetes, income disparity,they\\'ve all gone up with some exceptions -- in particular, infantmortality among people in poverty -- but it\\'s a great world thatwe\\'re bringing them into as well.</s>',\n",
        " '<s id=\"825\">And I know a little bit about these issues, because, formany years, I spent a long time in the non-profit industrialcomplex,</s>',\n",
        " '<s id=\"826\">and I\\'m a recovering executive director, two yearsclean.</s>',\n",
        " '<s id=\"827\">But during that time, I realized that it was about projectsand developing them on the local level that really was going to dothe right thing for our communities.</s>',\n",
        " '<s id=\"828\">But I really did struggle for financial support.</s>',\n",
        " '<s id=\"829\">The greater our success, the less money came in fromfoundations.</s>',\n",
        " '<s id=\"830\">And I tell you, being on the TED stage and winning aMacArthur in the same exact year gave everyone the impression thatI had arrived.</s>',\n",
        " '<s id=\"831\">And by the time I\\'d moved on, I was actually covering athird of my agency\\'s budget deficit with speaking fees.</s>',\n",
        " '<s id=\"832\">And I think because early on, frankly, my programs werejust a little bit ahead of their time.</s>',\n",
        " '<s id=\"833\">But since then, the park that was just a dump and wasfeatured at a TED2006 Talk became this little thing.</s>',\n",
        " '<s id=\"834\">But I did in fact get married in it.</s>',\n",
        " '<s id=\"835\">Over here.</s>',\n",
        " '<s id=\"836\">There goes my dog who led me to the park in mywedding.</s>',\n",
        " '<s id=\"837\">The South Bronx Greenway was also just a drawing on thestage back in 2006.</s>',\n",
        " '<s id=\"838\">Since then, we got about 50 million dollars in stimuluspackage money to come and get here.</s>',\n",
        " '<s id=\"839\">And we love this, because I love construction now, becausewe\\'re watching these things actually happen.</s>',\n",
        " '<s id=\"840\">So I want everyone to understand the critical importance ofshifting charity into enterprise.</s>',\n",
        " '<s id=\"841\">I started my firm to help communities across the countryrealize their own potential to improve everything about the qualityof life for their people.</s>',\n",
        " '<s id=\"842\">Hometown security is next on my to-do list.</s>',\n",
        " '<s id=\"843\">What we need are people who see the value in investing inthese types of local enterprises, who will partner with folks likeme to identify the growth trends and climate adaptation as well asunderstand the growing social costs of business as usual.</s>',\n",
        " '<s id=\"844\">We need to work together to embrace and repair our land,repair our power systems and repair ourselves.</s>',\n",
        " '<s id=\"845\">It\\'s time to stop building the shopping malls, the prisons,the stadiums and other tributes to all of our collectivefailures.</s>',\n",
        " '<s id=\"846\">It is time that we start building living monuments to hopeand possibility.</s>',\n",
        " '<s id=\"847\">Thank you very much.</s>',\n",
        " '<s id=\"848\"></s>',\n",
        " '<s id=\"849\">']"
       ]
      }
     ],
     "prompt_number": 231
    },
    {
     "cell_type": "code",
     "collapsed": false,
     "input": [
      "# So for each except for the first, which I'll edit manually, the URL is the second line, the author is the last."
     ],
     "language": "python",
     "metadata": {},
     "outputs": [],
     "prompt_number": 232
    },
    {
     "cell_type": "code",
     "collapsed": false,
     "input": [
      "def scrub(text):\n",
      "    lines = text.splitlines()\n",
      "    url = lines[0]\n",
      "    author = lines[4]\n",
      "    text = ' '.join(lines[2:-2])\n",
      "    text = re.sub('<.+?>|[\\?\\!\\.\\,\\']', ' ', text)\n",
      "    url = re.sub('<.+?>', ' ', url)\n",
      "    author = re.sub('<.+?>', ' ', author)\n",
      "    return url.strip(), author.strip(), [i.lower().strip() for i in text.split() if re.match(r'[A-Za-z]', i)]"
     ],
     "language": "python",
     "metadata": {},
     "outputs": [],
     "prompt_number": 233
    },
    {
     "cell_type": "code",
     "collapsed": false,
     "input": [
      "test_url, test_author, test_scrub = scrub(chunks[2])"
     ],
     "language": "python",
     "metadata": {},
     "outputs": [],
     "prompt_number": 234
    },
    {
     "cell_type": "code",
     "collapsed": false,
     "input": [
      "test_url, test_author"
     ],
     "language": "python",
     "metadata": {},
     "outputs": [
      {
       "metadata": {},
       "output_type": "pyout",
       "prompt_number": 235,
       "text": [
        "('handpring_puppet_co_the_genius_puppetry_behind_war_horse.html',\n",
        " 'Handspring Puppet Co.: The genius puppetry behind WarHorse')"
       ]
      }
     ],
     "prompt_number": 235
    },
    {
     "cell_type": "code",
     "collapsed": false,
     "input": [
      "test_scrub[:10]"
     ],
     "language": "python",
     "metadata": {},
     "outputs": [
      {
       "metadata": {},
       "output_type": "pyout",
       "prompt_number": 236,
       "text": [
        "['animals',\n",
        " 'arts',\n",
        " 'design',\n",
        " 'entertainment',\n",
        " 'theater',\n",
        " 'handspring',\n",
        " 'puppet',\n",
        " 'co',\n",
        " 'the',\n",
        " 'genius']"
       ]
      }
     ],
     "prompt_number": 236
    },
    {
     "cell_type": "code",
     "collapsed": false,
     "input": [
      "test_scrub[-10:]"
     ],
     "language": "python",
     "metadata": {},
     "outputs": [
      {
       "metadata": {},
       "output_type": "pyout",
       "prompt_number": 237,
       "text": [
        "['leo',\n",
        " 'zem',\n",
        " 'joaquin',\n",
        " 'and',\n",
        " 'basil',\n",
        " 'andme',\n",
        " 'thank',\n",
        " 'you',\n",
        " 'thank',\n",
        " 'you']"
       ]
      }
     ],
     "prompt_number": 237
    },
    {
     "cell_type": "code",
     "collapsed": false,
     "input": [
      "# Slookin good.\n",
      "# More testing\n",
      "\n",
      "u, a, t = scrub(chunks[-1]); u, a"
     ],
     "language": "python",
     "metadata": {},
     "outputs": [
      {
       "metadata": {},
       "output_type": "pyout",
       "prompt_number": 238,
       "text": [
        "('james_stavridis_how_nato_s_supreme_commander_thinks_about_global_security.html',\n",
        " \"James Stavridis: How NATO's Supreme Commander thinks aboutglobal security\")"
       ]
      }
     ],
     "prompt_number": 238
    },
    {
     "cell_type": "code",
     "collapsed": false,
     "input": [
      "scrubbed = []\n",
      "for chunk in chunks:\n",
      "    u,a,t = scrub(chunk)\n",
      "    scrubbed.append((u,a,t))"
     ],
     "language": "python",
     "metadata": {},
     "outputs": [],
     "prompt_number": 250
    },
    {
     "cell_type": "code",
     "collapsed": false,
     "input": [
      "df = pd.DataFrame(scrubbed)"
     ],
     "language": "python",
     "metadata": {},
     "outputs": [],
     "prompt_number": 251
    },
    {
     "cell_type": "code",
     "collapsed": false,
     "input": [
      "df.columns=['url', 'author', 'text']"
     ],
     "language": "python",
     "metadata": {},
     "outputs": [],
     "prompt_number": 253
    },
    {
     "cell_type": "code",
     "collapsed": false,
     "input": [
      "df.head()"
     ],
     "language": "python",
     "metadata": {},
     "outputs": [
      {
       "html": [
        "<div style=\"max-height:1000px;max-width:1500px;overflow:auto;\">\n",
        "<table border=\"1\" class=\"dataframe\">\n",
        "  <thead>\n",
        "    <tr style=\"text-align: right;\">\n",
        "      <th></th>\n",
        "      <th>url</th>\n",
        "      <th>author</th>\n",
        "      <th>text</th>\n",
        "    </tr>\n",
        "  </thead>\n",
        "  <tbody>\n",
        "    <tr>\n",
        "      <th>0</th>\n",
        "      <td>  stephen_palumbi_following_the_mercury_trail.html</td>\n",
        "      <td>      Stephen Palumbi: Following the mercury trail</td>\n",
        "      <td> [fish, health, mission, blue, oceans, science,...</td>\n",
        "    </tr>\n",
        "    <tr>\n",
        "      <th>1</th>\n",
        "      <td>                    jessa_gamble_how_to_sleep.html</td>\n",
        "      <td>             Jessa Gamble: Our natural sleep cycle</td>\n",
        "      <td> [evolution, humanity, personal, growth, scienc...</td>\n",
        "    </tr>\n",
        "    <tr>\n",
        "      <th>2</th>\n",
        "      <td> handpring_puppet_co_the_genius_puppetry_behind...</td>\n",
        "      <td> Handspring Puppet Co.: The genius puppetry beh...</td>\n",
        "      <td> [animals, arts, design, entertainment, theater...</td>\n",
        "    </tr>\n",
        "    <tr>\n",
        "      <th>3</th>\n",
        "      <td> katherine_fulton_you_are_the_future_of_philant...</td>\n",
        "      <td> Katherine Fulton: You are the future ofphilant...</td>\n",
        "      <td> [activism, bottom-up, community, globalissues,...</td>\n",
        "    </tr>\n",
        "    <tr>\n",
        "      <th>4</th>\n",
        "      <td> chris_gerdes_the_future_race_car_150mph_and_no...</td>\n",
        "      <td> Chris Gerdes: The future race car -- 150mph, a...</td>\n",
        "      <td> [cars, future, technology, chris, gerdes:, the...</td>\n",
        "    </tr>\n",
        "  </tbody>\n",
        "</table>\n",
        "</div>"
       ],
       "metadata": {},
       "output_type": "pyout",
       "prompt_number": 254,
       "text": [
        "                                                 url  \\\n",
        "0   stephen_palumbi_following_the_mercury_trail.html   \n",
        "1                     jessa_gamble_how_to_sleep.html   \n",
        "2  handpring_puppet_co_the_genius_puppetry_behind...   \n",
        "3  katherine_fulton_you_are_the_future_of_philant...   \n",
        "4  chris_gerdes_the_future_race_car_150mph_and_no...   \n",
        "\n",
        "                                              author  \\\n",
        "0       Stephen Palumbi: Following the mercury trail   \n",
        "1              Jessa Gamble: Our natural sleep cycle   \n",
        "2  Handspring Puppet Co.: The genius puppetry beh...   \n",
        "3  Katherine Fulton: You are the future ofphilant...   \n",
        "4  Chris Gerdes: The future race car -- 150mph, a...   \n",
        "\n",
        "                                                text  \n",
        "0  [fish, health, mission, blue, oceans, science,...  \n",
        "1  [evolution, humanity, personal, growth, scienc...  \n",
        "2  [animals, arts, design, entertainment, theater...  \n",
        "3  [activism, bottom-up, community, globalissues,...  \n",
        "4  [cars, future, technology, chris, gerdes:, the...  "
       ]
      }
     ],
     "prompt_number": 254
    },
    {
     "cell_type": "code",
     "collapsed": false,
     "input": [
      "# Yay ! It's all aligned"
     ],
     "language": "python",
     "metadata": {},
     "outputs": [],
     "prompt_number": 257
    },
    {
     "cell_type": "code",
     "collapsed": false,
     "input": [
      "df.tail()"
     ],
     "language": "python",
     "metadata": {},
     "outputs": [
      {
       "html": [
        "<div style=\"max-height:1000px;max-width:1500px;overflow:auto;\">\n",
        "<table border=\"1\" class=\"dataframe\">\n",
        "  <thead>\n",
        "    <tr style=\"text-align: right;\">\n",
        "      <th></th>\n",
        "      <th>url</th>\n",
        "      <th>author</th>\n",
        "      <th>text</th>\n",
        "    </tr>\n",
        "  </thead>\n",
        "  <tbody>\n",
        "    <tr>\n",
        "      <th>1164</th>\n",
        "      <td> lalitesh_katragadda_making_maps_to_fight_disas...</td>\n",
        "      <td> Lalitesh Katragadda: Making maps to fight disa...</td>\n",
        "      <td> [collaboration, design, map, technology, lalit...</td>\n",
        "    </tr>\n",
        "    <tr>\n",
        "      <th>1165</th>\n",
        "      <td>                                  julia_bacha.html</td>\n",
        "      <td>         Julia Bacha: Pay attention to nonviolence</td>\n",
        "      <td> [arts, communication, compassion, entertainmen...</td>\n",
        "    </tr>\n",
        "    <tr>\n",
        "      <th>1166</th>\n",
        "      <td> simon_sinek_how_great_leaders_inspire_action.html</td>\n",
        "      <td>     Simon Sinek: How great leaders inspire action</td>\n",
        "      <td> [bullseye, business, entrepreneur, leadership,...</td>\n",
        "    </tr>\n",
        "    <tr>\n",
        "      <th>1167</th>\n",
        "      <td> neil_burgess_how_your_brain_tells_you_where_yo...</td>\n",
        "      <td> Neil Burgess: How your brain tells you where y...</td>\n",
        "      <td> [brain, cognitivescience, exploration, neurosc...</td>\n",
        "    </tr>\n",
        "    <tr>\n",
        "      <th>1168</th>\n",
        "      <td> james_stavridis_how_nato_s_supreme_commander_t...</td>\n",
        "      <td> James Stavridis: How NATO's Supreme Commander ...</td>\n",
        "      <td> [collaboration, globalissues, open-source, pea...</td>\n",
        "    </tr>\n",
        "  </tbody>\n",
        "</table>\n",
        "</div>"
       ],
       "metadata": {},
       "output_type": "pyout",
       "prompt_number": 259,
       "text": [
        "                                                    url  \\\n",
        "1164  lalitesh_katragadda_making_maps_to_fight_disas...   \n",
        "1165                                   julia_bacha.html   \n",
        "1166  simon_sinek_how_great_leaders_inspire_action.html   \n",
        "1167  neil_burgess_how_your_brain_tells_you_where_yo...   \n",
        "1168  james_stavridis_how_nato_s_supreme_commander_t...   \n",
        "\n",
        "                                                 author  \\\n",
        "1164  Lalitesh Katragadda: Making maps to fight disa...   \n",
        "1165          Julia Bacha: Pay attention to nonviolence   \n",
        "1166      Simon Sinek: How great leaders inspire action   \n",
        "1167  Neil Burgess: How your brain tells you where y...   \n",
        "1168  James Stavridis: How NATO's Supreme Commander ...   \n",
        "\n",
        "                                                   text  \n",
        "1164  [collaboration, design, map, technology, lalit...  \n",
        "1165  [arts, communication, compassion, entertainmen...  \n",
        "1166  [bullseye, business, entrepreneur, leadership,...  \n",
        "1167  [brain, cognitivescience, exploration, neurosc...  \n",
        "1168  [collaboration, globalissues, open-source, pea...  "
       ]
      }
     ],
     "prompt_number": 259
    },
    {
     "cell_type": "code",
     "collapsed": false,
     "input": [
      "df.info()"
     ],
     "language": "python",
     "metadata": {},
     "outputs": [
      {
       "output_type": "stream",
       "stream": "stdout",
       "text": [
        "<class 'pandas.core.frame.DataFrame'>\n",
        "Int64Index: 1169 entries, 0 to 1168\n",
        "Data columns (total 3 columns):\n",
        "url       1169 non-null object\n",
        "author    1169 non-null object\n",
        "text      1169 non-null object\n",
        "dtypes: object(3)\n",
        "memory usage: 36.5+ KB\n"
       ]
      }
     ],
     "prompt_number": 260
    },
    {
     "cell_type": "code",
     "collapsed": false,
     "input": [
      "# Whats the text actually look like now?"
     ],
     "language": "python",
     "metadata": {},
     "outputs": [],
     "prompt_number": 270
    },
    {
     "cell_type": "code",
     "collapsed": false,
     "input": [
      "df.text"
     ],
     "language": "python",
     "metadata": {},
     "outputs": [
      {
       "metadata": {},
       "output_type": "pyout",
       "prompt_number": 267,
       "text": [
        "0     [fish, health, mission, blue, oceans, science,...\n",
        "1     [evolution, humanity, personal, growth, scienc...\n",
        "2     [animals, arts, design, entertainment, theater...\n",
        "3     [activism, bottom-up, community, globalissues,...\n",
        "4     [cars, future, technology, chris, gerdes:, the...\n",
        "5     [anthropology, humanity, love, psychology, soc...\n",
        "6     [business, community, economics, green, majora...\n",
        "7     [collaboration, design, food, britta, riley:, ...\n",
        "8     [one, laptop, perchild, activism, computers, d...\n",
        "9     [design, humanity, intelligence, robots, singu...\n",
        "10    [arts, beauty, design, happiness, richard, sey...\n",
        "11    [atheism, culture, philosophy, religion, alain...\n",
        "12    [exploration, journalism, science, technology,...\n",
        "13    [book, design, entertainment, film, history, l...\n",
        "14    [cancer, medicine, personal, growth, storytell...\n",
        "...\n",
        "1154    [god, ted, prize, globalissues, politics, reli...\n",
        "1155    [macarthurgrant, art, arts, book, cities, comm...\n",
        "1156    [design, technology, skylar, tibbits:, can, we...\n",
        "1157    [biodiversity, exploration, microbiology, scie...\n",
        "1158    [climate, change, cosmos, culture, environment...\n",
        "1159    [dna, biosphere, biotech, entrepreneur, geneti...\n",
        "1160    [business, culture, economics, global, issues,...\n",
        "1161    [brain, business, happiness, mind, psychology,...\n",
        "1162    [nasa, design, exploration, science, space, te...\n",
        "1163    [future, global, issues, media, news, science,...\n",
        "1164    [collaboration, design, map, technology, lalit...\n",
        "1165    [arts, communication, compassion, entertainmen...\n",
        "1166    [bullseye, business, entrepreneur, leadership,...\n",
        "1167    [brain, cognitivescience, exploration, neurosc...\n",
        "1168    [collaboration, globalissues, open-source, pea...\n",
        "Name: text, Length: 1169, dtype: object"
       ]
      }
     ],
     "prompt_number": 267
    },
    {
     "cell_type": "code",
     "collapsed": false,
     "input": [
      "# I can see some words got grouped, e.g. 'global issues', \n",
      "# but I'll ignore that for now. Most look like they got seperated correctly"
     ],
     "language": "python",
     "metadata": {},
     "outputs": [],
     "prompt_number": 271
    },
    {
     "cell_type": "markdown",
     "metadata": {},
     "source": [
      "# Document Clustering\n",
      "\n",
      "How are we going to represent the words, numerically, so that we can cluster them?\n",
      "\n",
      "## TF-IDF: Term Frequency, Inverse Document Frequency\n",
      "\n",
      "It's one way to do it !\n",
      "\n",
      "http://en.wikipedia.org/wiki/Tf%E2%80%93idf\n",
      "\n",
      "> tf\u2013idf, short for term frequency\u2013inverse document frequency, is a numerical statistic that is intended to reflect how important a word is to a document in a collection or corpus. It is often used as a weighting factor in information retrieval and text mining. The tf-idf value increases proportionally to the number of times a word appears in the document, but is offset by the frequency of the word in the corpus, which helps to adjust for the fact that some words appear more frequently in general. Variations of the tf\u2013idf weighting scheme are often used by search engines as a central tool in scoring and ranking a document's relevance given a user query. tf\u2013idf can be successfully used for stop-words filtering in various subject fields including text summarization and classification."
     ]
    },
    {
     "cell_type": "code",
     "collapsed": false,
     "input": [
      "from sklearn.feature_extraction.text import TfidfTransformer, TfidfVectorizer"
     ],
     "language": "python",
     "metadata": {},
     "outputs": [],
     "prompt_number": 272
    },
    {
     "cell_type": "code",
     "collapsed": false,
     "input": [
      "tfidfer = TfidfVectorizer(smooth_idf=True) # Smooth here adds one (to avoid zero division later)"
     ],
     "language": "python",
     "metadata": {},
     "outputs": [],
     "prompt_number": 273
    },
    {
     "cell_type": "code",
     "collapsed": false,
     "input": [
      "df['tfidf'] = df.text.map(\n",
      "    lambda x:tfidfer.fit_transform(x))"
     ],
     "language": "python",
     "metadata": {},
     "outputs": [
      {
       "output_type": "stream",
       "stream": "stderr",
       "text": [
        "/Library/Python/2.7/site-packages/numpy-1.9.1-py2.7-macosx-10.9-intel.egg/numpy/core/fromnumeric.py:2499: VisibleDeprecationWarning: `rank` is deprecated; use the `ndim` attribute or function instead. To find the rank of a matrix see `numpy.linalg.matrix_rank`.\n",
        "  VisibleDeprecationWarning)\n"
       ]
      }
     ],
     "prompt_number": 279
    },
    {
     "cell_type": "code",
     "collapsed": false,
     "input": [
      "df['tfidf']"
     ],
     "language": "python",
     "metadata": {},
     "outputs": [
      {
       "metadata": {},
       "output_type": "pyout",
       "prompt_number": 281,
       "text": [
        "0       (0, 245)\\t1.0\\n  (1, 304)\\t1.0\\n  (2, 429)\\t...\n",
        "1       (0, 81)\\t1.0\\n  (1, 112)\\t1.0\\n  (2, 185)\\t1...\n",
        "2       (0, 41)\\t1.0\\n  (1, 52)\\t1.0\\n  (2, 153)\\t1....\n",
        "3       (0, 7)\\t1.0\\n  (1, 578)\\t0.651578071935\\n  (...\n",
        "4       (0, 94)\\t1.0\\n  (1, 208)\\t1.0\\n  (2, 504)\\t1...\n",
        "5       (0, 29)\\t1.0\\n  (1, 229)\\t1.0\\n  (2, 289)\\t1...\n",
        "6       (0, 111)\\t1.0\\n  (1, 154)\\t1.0\\n  (2, 239)\\t...\n",
        "7       (0, 74)\\t1.0\\n  (1, 100)\\t1.0\\n  (2, 146)\\t1...\n",
        "8       (0, 496)\\t1.0\\n  (1, 376)\\t1.0\\n  (2, 526)\\t...\n",
        "9       (0, 180)\\t1.0\\n  (1, 322)\\t1.0\\n  (2, 333)\\t...\n",
        "10      (0, 55)\\t1.0\\n  (1, 80)\\t1.0\\n  (2, 175)\\t1....\n",
        "11      (0, 83)\\t1.0\\n  (1, 221)\\t1.0\\n  (2, 622)\\t1...\n",
        "12      (0, 206)\\t1.0\\n  (1, 335)\\t1.0\\n  (2, 536)\\t...\n",
        "13      (0, 112)\\t1.0\\n  (1, 205)\\t1.0\\n  (2, 249)\\t...\n",
        "14      (0, 28)\\t1.0\\n  (1, 108)\\t1.0\\n  (2, 131)\\t1...\n",
        "...\n",
        "1154      (0, 192)\\t1.0\\n  (1, 422)\\t1.0\\n  (2, 342)\\t...\n",
        "1155      (0, 577)\\t1.0\\n  (1, 85)\\t1.0\\n  (2, 86)\\t1....\n",
        "1156      (0, 76)\\t1.0\\n  (1, 305)\\t1.0\\n  (2, 282)\\t1...\n",
        "1157      (0, 52)\\t1.0\\n  (1, 116)\\t1.0\\n  (2, 226)\\t1...\n",
        "1158      (0, 121)\\t1.0\\n  (1, 113)\\t1.0\\n  (2, 144)\\t...\n",
        "1159      (0, 227)\\t1.0\\n  (1, 103)\\t1.0\\n  (2, 104)\\t...\n",
        "1160      (0, 104)\\t1.0\\n  (1, 177)\\t1.0\\n  (2, 221)\\t...\n",
        "1161      (0, 48)\\t1.0\\n  (1, 51)\\t1.0\\n  (2, 149)\\t1....\n",
        "1162      (0, 471)\\t1.0\\n  (1, 165)\\t1.0\\n  (2, 234)\\t...\n",
        "1163      (0, 70)\\t1.0\\n  (1, 75)\\t1.0\\n  (2, 92)\\t1.0...\n",
        "1164      (0, 20)\\t1.0\\n  (1, 30)\\t1.0\\n  (2, 91)\\t1.0...\n",
        "1165      (0, 35)\\t1.0\\n  (1, 94)\\t1.0\\n  (2, 98)\\t1.0...\n",
        "1166      (0, 99)\\t1.0\\n  (1, 101)\\t1.0\\n  (2, 220)\\t1...\n",
        "1167      (0, 63)\\t1.0\\n  (1, 84)\\t1.0\\n  (2, 134)\\t1....\n",
        "1168      (0, 118)\\t1.0\\n  (1, 244)\\t1.0\\n  (2, 536)\\t...\n",
        "Name: tfidf, Length: 1169, dtype: object"
       ]
      }
     ],
     "prompt_number": 281
    },
    {
     "cell_type": "code",
     "collapsed": false,
     "input": [
      "# That is CSR sparse\n",
      "df['tfidf'][0][0]"
     ],
     "language": "python",
     "metadata": {},
     "outputs": [
      {
       "metadata": {},
       "output_type": "pyout",
       "prompt_number": 284,
       "text": [
        "<1x802 sparse matrix of type '<type 'numpy.float64'>'\n",
        "\twith 1 stored elements in Compressed Sparse Row format>"
       ]
      }
     ],
     "prompt_number": 284
    },
    {
     "cell_type": "code",
     "collapsed": false,
     "input": [
      "# What is CSR ? http://en.wikipedia.org/wiki/Sparse_matrix#Compressed_row_Storage_.28CRS_or_CSR.29"
     ],
     "language": "python",
     "metadata": {},
     "outputs": [],
     "prompt_number": 285
    },
    {
     "cell_type": "code",
     "collapsed": false,
     "input": [],
     "language": "python",
     "metadata": {},
     "outputs": []
    }
   ],
   "metadata": {}
  }
 ]
}